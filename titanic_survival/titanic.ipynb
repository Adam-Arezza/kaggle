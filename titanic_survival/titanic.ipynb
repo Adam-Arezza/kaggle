{
 "metadata": {
  "language_info": {
   "codemirror_mode": {
    "name": "ipython",
    "version": 3
   },
   "file_extension": ".py",
   "mimetype": "text/x-python",
   "name": "python",
   "nbconvert_exporter": "python",
   "pygments_lexer": "ipython3",
   "version": "3.7.9-final"
  },
  "orig_nbformat": 2,
  "kernelspec": {
   "name": "python3",
   "display_name": "Python 3.7.9 64-bit",
   "metadata": {
    "interpreter": {
     "hash": "3ee44787f67750b32984753072d94e11b7319d8a6fd8b1b5bee9c2aafe75d9f4"
    }
   }
  }
 },
 "nbformat": 4,
 "nbformat_minor": 2,
 "cells": [
  {
   "cell_type": "code",
   "execution_count": 1,
   "metadata": {},
   "outputs": [],
   "source": [
    "import numpy as np\n",
    "import pandas as pd\n",
    "import sklearn\n",
    "from sklearn.tree import DecisionTreeClassifier\n",
    "from sklearn.metrics import confusion_matrix\n",
    "from sklearn.ensemble import RandomForestClassifier\n",
    "import math"
   ]
  },
  {
   "cell_type": "code",
   "execution_count": 2,
   "metadata": {},
   "outputs": [],
   "source": [
    "train = pd.read_csv(\"train.csv\")\n",
    "test = pd.read_csv(\"test.csv\")"
   ]
  },
  {
   "cell_type": "code",
   "execution_count": 3,
   "metadata": {},
   "outputs": [
    {
     "output_type": "execute_result",
     "data": {
      "text/plain": [
       "       PassengerId    Survived      Pclass         Age       SibSp  \\\n",
       "count   891.000000  891.000000  891.000000  714.000000  891.000000   \n",
       "mean    446.000000    0.383838    2.308642   29.699118    0.523008   \n",
       "std     257.353842    0.486592    0.836071   14.526497    1.102743   \n",
       "min       1.000000    0.000000    1.000000    0.420000    0.000000   \n",
       "25%     223.500000    0.000000    2.000000   20.125000    0.000000   \n",
       "50%     446.000000    0.000000    3.000000   28.000000    0.000000   \n",
       "75%     668.500000    1.000000    3.000000   38.000000    1.000000   \n",
       "max     891.000000    1.000000    3.000000   80.000000    8.000000   \n",
       "\n",
       "            Parch        Fare  \n",
       "count  891.000000  891.000000  \n",
       "mean     0.381594   32.204208  \n",
       "std      0.806057   49.693429  \n",
       "min      0.000000    0.000000  \n",
       "25%      0.000000    7.910400  \n",
       "50%      0.000000   14.454200  \n",
       "75%      0.000000   31.000000  \n",
       "max      6.000000  512.329200  "
      ],
      "text/html": "<div>\n<style scoped>\n    .dataframe tbody tr th:only-of-type {\n        vertical-align: middle;\n    }\n\n    .dataframe tbody tr th {\n        vertical-align: top;\n    }\n\n    .dataframe thead th {\n        text-align: right;\n    }\n</style>\n<table border=\"1\" class=\"dataframe\">\n  <thead>\n    <tr style=\"text-align: right;\">\n      <th></th>\n      <th>PassengerId</th>\n      <th>Survived</th>\n      <th>Pclass</th>\n      <th>Age</th>\n      <th>SibSp</th>\n      <th>Parch</th>\n      <th>Fare</th>\n    </tr>\n  </thead>\n  <tbody>\n    <tr>\n      <th>count</th>\n      <td>891.000000</td>\n      <td>891.000000</td>\n      <td>891.000000</td>\n      <td>714.000000</td>\n      <td>891.000000</td>\n      <td>891.000000</td>\n      <td>891.000000</td>\n    </tr>\n    <tr>\n      <th>mean</th>\n      <td>446.000000</td>\n      <td>0.383838</td>\n      <td>2.308642</td>\n      <td>29.699118</td>\n      <td>0.523008</td>\n      <td>0.381594</td>\n      <td>32.204208</td>\n    </tr>\n    <tr>\n      <th>std</th>\n      <td>257.353842</td>\n      <td>0.486592</td>\n      <td>0.836071</td>\n      <td>14.526497</td>\n      <td>1.102743</td>\n      <td>0.806057</td>\n      <td>49.693429</td>\n    </tr>\n    <tr>\n      <th>min</th>\n      <td>1.000000</td>\n      <td>0.000000</td>\n      <td>1.000000</td>\n      <td>0.420000</td>\n      <td>0.000000</td>\n      <td>0.000000</td>\n      <td>0.000000</td>\n    </tr>\n    <tr>\n      <th>25%</th>\n      <td>223.500000</td>\n      <td>0.000000</td>\n      <td>2.000000</td>\n      <td>20.125000</td>\n      <td>0.000000</td>\n      <td>0.000000</td>\n      <td>7.910400</td>\n    </tr>\n    <tr>\n      <th>50%</th>\n      <td>446.000000</td>\n      <td>0.000000</td>\n      <td>3.000000</td>\n      <td>28.000000</td>\n      <td>0.000000</td>\n      <td>0.000000</td>\n      <td>14.454200</td>\n    </tr>\n    <tr>\n      <th>75%</th>\n      <td>668.500000</td>\n      <td>1.000000</td>\n      <td>3.000000</td>\n      <td>38.000000</td>\n      <td>1.000000</td>\n      <td>0.000000</td>\n      <td>31.000000</td>\n    </tr>\n    <tr>\n      <th>max</th>\n      <td>891.000000</td>\n      <td>1.000000</td>\n      <td>3.000000</td>\n      <td>80.000000</td>\n      <td>8.000000</td>\n      <td>6.000000</td>\n      <td>512.329200</td>\n    </tr>\n  </tbody>\n</table>\n</div>"
     },
     "metadata": {},
     "execution_count": 3
    }
   ],
   "source": [
    "train.describe()"
   ]
  },
  {
   "cell_type": "code",
   "execution_count": 4,
   "metadata": {},
   "outputs": [
    {
     "output_type": "execute_result",
     "data": {
      "text/plain": [
       "   PassengerId  Survived  Pclass  \\\n",
       "0            1         0       3   \n",
       "1            2         1       1   \n",
       "2            3         1       3   \n",
       "3            4         1       1   \n",
       "4            5         0       3   \n",
       "\n",
       "                                                Name     Sex   Age  SibSp  \\\n",
       "0                            Braund, Mr. Owen Harris    male  22.0      1   \n",
       "1  Cumings, Mrs. John Bradley (Florence Briggs Th...  female  38.0      1   \n",
       "2                             Heikkinen, Miss. Laina  female  26.0      0   \n",
       "3       Futrelle, Mrs. Jacques Heath (Lily May Peel)  female  35.0      1   \n",
       "4                           Allen, Mr. William Henry    male  35.0      0   \n",
       "\n",
       "   Parch            Ticket     Fare Cabin Embarked  \n",
       "0      0         A/5 21171   7.2500   NaN        S  \n",
       "1      0          PC 17599  71.2833   C85        C  \n",
       "2      0  STON/O2. 3101282   7.9250   NaN        S  \n",
       "3      0            113803  53.1000  C123        S  \n",
       "4      0            373450   8.0500   NaN        S  "
      ],
      "text/html": "<div>\n<style scoped>\n    .dataframe tbody tr th:only-of-type {\n        vertical-align: middle;\n    }\n\n    .dataframe tbody tr th {\n        vertical-align: top;\n    }\n\n    .dataframe thead th {\n        text-align: right;\n    }\n</style>\n<table border=\"1\" class=\"dataframe\">\n  <thead>\n    <tr style=\"text-align: right;\">\n      <th></th>\n      <th>PassengerId</th>\n      <th>Survived</th>\n      <th>Pclass</th>\n      <th>Name</th>\n      <th>Sex</th>\n      <th>Age</th>\n      <th>SibSp</th>\n      <th>Parch</th>\n      <th>Ticket</th>\n      <th>Fare</th>\n      <th>Cabin</th>\n      <th>Embarked</th>\n    </tr>\n  </thead>\n  <tbody>\n    <tr>\n      <th>0</th>\n      <td>1</td>\n      <td>0</td>\n      <td>3</td>\n      <td>Braund, Mr. Owen Harris</td>\n      <td>male</td>\n      <td>22.0</td>\n      <td>1</td>\n      <td>0</td>\n      <td>A/5 21171</td>\n      <td>7.2500</td>\n      <td>NaN</td>\n      <td>S</td>\n    </tr>\n    <tr>\n      <th>1</th>\n      <td>2</td>\n      <td>1</td>\n      <td>1</td>\n      <td>Cumings, Mrs. John Bradley (Florence Briggs Th...</td>\n      <td>female</td>\n      <td>38.0</td>\n      <td>1</td>\n      <td>0</td>\n      <td>PC 17599</td>\n      <td>71.2833</td>\n      <td>C85</td>\n      <td>C</td>\n    </tr>\n    <tr>\n      <th>2</th>\n      <td>3</td>\n      <td>1</td>\n      <td>3</td>\n      <td>Heikkinen, Miss. Laina</td>\n      <td>female</td>\n      <td>26.0</td>\n      <td>0</td>\n      <td>0</td>\n      <td>STON/O2. 3101282</td>\n      <td>7.9250</td>\n      <td>NaN</td>\n      <td>S</td>\n    </tr>\n    <tr>\n      <th>3</th>\n      <td>4</td>\n      <td>1</td>\n      <td>1</td>\n      <td>Futrelle, Mrs. Jacques Heath (Lily May Peel)</td>\n      <td>female</td>\n      <td>35.0</td>\n      <td>1</td>\n      <td>0</td>\n      <td>113803</td>\n      <td>53.1000</td>\n      <td>C123</td>\n      <td>S</td>\n    </tr>\n    <tr>\n      <th>4</th>\n      <td>5</td>\n      <td>0</td>\n      <td>3</td>\n      <td>Allen, Mr. William Henry</td>\n      <td>male</td>\n      <td>35.0</td>\n      <td>0</td>\n      <td>0</td>\n      <td>373450</td>\n      <td>8.0500</td>\n      <td>NaN</td>\n      <td>S</td>\n    </tr>\n  </tbody>\n</table>\n</div>"
     },
     "metadata": {},
     "execution_count": 4
    }
   ],
   "source": [
    "train.head()"
   ]
  },
  {
   "cell_type": "code",
   "execution_count": 5,
   "metadata": {},
   "outputs": [],
   "source": [
    "survived = train[train[\"Survived\"] == 1]\n",
    "died = train[train[\"Survived\"] == 0]"
   ]
  },
  {
   "cell_type": "code",
   "execution_count": 6,
   "metadata": {},
   "outputs": [
    {
     "output_type": "execute_result",
     "data": {
      "text/plain": [
       "       PassengerId  Survived      Pclass         Age       SibSp       Parch  \\\n",
       "count   342.000000     342.0  342.000000  290.000000  342.000000  342.000000   \n",
       "mean    444.368421       1.0    1.950292   28.343690    0.473684    0.464912   \n",
       "std     252.358840       0.0    0.863321   14.950952    0.708688    0.771712   \n",
       "min       2.000000       1.0    1.000000    0.420000    0.000000    0.000000   \n",
       "25%     250.750000       1.0    1.000000   19.000000    0.000000    0.000000   \n",
       "50%     439.500000       1.0    2.000000   28.000000    0.000000    0.000000   \n",
       "75%     651.500000       1.0    3.000000   36.000000    1.000000    1.000000   \n",
       "max     890.000000       1.0    3.000000   80.000000    4.000000    5.000000   \n",
       "\n",
       "             Fare  \n",
       "count  342.000000  \n",
       "mean    48.395408  \n",
       "std     66.596998  \n",
       "min      0.000000  \n",
       "25%     12.475000  \n",
       "50%     26.000000  \n",
       "75%     57.000000  \n",
       "max    512.329200  "
      ],
      "text/html": "<div>\n<style scoped>\n    .dataframe tbody tr th:only-of-type {\n        vertical-align: middle;\n    }\n\n    .dataframe tbody tr th {\n        vertical-align: top;\n    }\n\n    .dataframe thead th {\n        text-align: right;\n    }\n</style>\n<table border=\"1\" class=\"dataframe\">\n  <thead>\n    <tr style=\"text-align: right;\">\n      <th></th>\n      <th>PassengerId</th>\n      <th>Survived</th>\n      <th>Pclass</th>\n      <th>Age</th>\n      <th>SibSp</th>\n      <th>Parch</th>\n      <th>Fare</th>\n    </tr>\n  </thead>\n  <tbody>\n    <tr>\n      <th>count</th>\n      <td>342.000000</td>\n      <td>342.0</td>\n      <td>342.000000</td>\n      <td>290.000000</td>\n      <td>342.000000</td>\n      <td>342.000000</td>\n      <td>342.000000</td>\n    </tr>\n    <tr>\n      <th>mean</th>\n      <td>444.368421</td>\n      <td>1.0</td>\n      <td>1.950292</td>\n      <td>28.343690</td>\n      <td>0.473684</td>\n      <td>0.464912</td>\n      <td>48.395408</td>\n    </tr>\n    <tr>\n      <th>std</th>\n      <td>252.358840</td>\n      <td>0.0</td>\n      <td>0.863321</td>\n      <td>14.950952</td>\n      <td>0.708688</td>\n      <td>0.771712</td>\n      <td>66.596998</td>\n    </tr>\n    <tr>\n      <th>min</th>\n      <td>2.000000</td>\n      <td>1.0</td>\n      <td>1.000000</td>\n      <td>0.420000</td>\n      <td>0.000000</td>\n      <td>0.000000</td>\n      <td>0.000000</td>\n    </tr>\n    <tr>\n      <th>25%</th>\n      <td>250.750000</td>\n      <td>1.0</td>\n      <td>1.000000</td>\n      <td>19.000000</td>\n      <td>0.000000</td>\n      <td>0.000000</td>\n      <td>12.475000</td>\n    </tr>\n    <tr>\n      <th>50%</th>\n      <td>439.500000</td>\n      <td>1.0</td>\n      <td>2.000000</td>\n      <td>28.000000</td>\n      <td>0.000000</td>\n      <td>0.000000</td>\n      <td>26.000000</td>\n    </tr>\n    <tr>\n      <th>75%</th>\n      <td>651.500000</td>\n      <td>1.0</td>\n      <td>3.000000</td>\n      <td>36.000000</td>\n      <td>1.000000</td>\n      <td>1.000000</td>\n      <td>57.000000</td>\n    </tr>\n    <tr>\n      <th>max</th>\n      <td>890.000000</td>\n      <td>1.0</td>\n      <td>3.000000</td>\n      <td>80.000000</td>\n      <td>4.000000</td>\n      <td>5.000000</td>\n      <td>512.329200</td>\n    </tr>\n  </tbody>\n</table>\n</div>"
     },
     "metadata": {},
     "execution_count": 6
    }
   ],
   "source": [
    "survived.describe()"
   ]
  },
  {
   "cell_type": "code",
   "execution_count": 7,
   "metadata": {},
   "outputs": [
    {
     "output_type": "execute_result",
     "data": {
      "text/plain": [
       "       PassengerId  Survived      Pclass         Age       SibSp       Parch  \\\n",
       "count   549.000000     549.0  549.000000  424.000000  549.000000  549.000000   \n",
       "mean    447.016393       0.0    2.531876   30.626179    0.553734    0.329690   \n",
       "std     260.640469       0.0    0.735805   14.172110    1.288399    0.823166   \n",
       "min       1.000000       0.0    1.000000    1.000000    0.000000    0.000000   \n",
       "25%     211.000000       0.0    2.000000   21.000000    0.000000    0.000000   \n",
       "50%     455.000000       0.0    3.000000   28.000000    0.000000    0.000000   \n",
       "75%     675.000000       0.0    3.000000   39.000000    1.000000    0.000000   \n",
       "max     891.000000       0.0    3.000000   74.000000    8.000000    6.000000   \n",
       "\n",
       "             Fare  \n",
       "count  549.000000  \n",
       "mean    22.117887  \n",
       "std     31.388207  \n",
       "min      0.000000  \n",
       "25%      7.854200  \n",
       "50%     10.500000  \n",
       "75%     26.000000  \n",
       "max    263.000000  "
      ],
      "text/html": "<div>\n<style scoped>\n    .dataframe tbody tr th:only-of-type {\n        vertical-align: middle;\n    }\n\n    .dataframe tbody tr th {\n        vertical-align: top;\n    }\n\n    .dataframe thead th {\n        text-align: right;\n    }\n</style>\n<table border=\"1\" class=\"dataframe\">\n  <thead>\n    <tr style=\"text-align: right;\">\n      <th></th>\n      <th>PassengerId</th>\n      <th>Survived</th>\n      <th>Pclass</th>\n      <th>Age</th>\n      <th>SibSp</th>\n      <th>Parch</th>\n      <th>Fare</th>\n    </tr>\n  </thead>\n  <tbody>\n    <tr>\n      <th>count</th>\n      <td>549.000000</td>\n      <td>549.0</td>\n      <td>549.000000</td>\n      <td>424.000000</td>\n      <td>549.000000</td>\n      <td>549.000000</td>\n      <td>549.000000</td>\n    </tr>\n    <tr>\n      <th>mean</th>\n      <td>447.016393</td>\n      <td>0.0</td>\n      <td>2.531876</td>\n      <td>30.626179</td>\n      <td>0.553734</td>\n      <td>0.329690</td>\n      <td>22.117887</td>\n    </tr>\n    <tr>\n      <th>std</th>\n      <td>260.640469</td>\n      <td>0.0</td>\n      <td>0.735805</td>\n      <td>14.172110</td>\n      <td>1.288399</td>\n      <td>0.823166</td>\n      <td>31.388207</td>\n    </tr>\n    <tr>\n      <th>min</th>\n      <td>1.000000</td>\n      <td>0.0</td>\n      <td>1.000000</td>\n      <td>1.000000</td>\n      <td>0.000000</td>\n      <td>0.000000</td>\n      <td>0.000000</td>\n    </tr>\n    <tr>\n      <th>25%</th>\n      <td>211.000000</td>\n      <td>0.0</td>\n      <td>2.000000</td>\n      <td>21.000000</td>\n      <td>0.000000</td>\n      <td>0.000000</td>\n      <td>7.854200</td>\n    </tr>\n    <tr>\n      <th>50%</th>\n      <td>455.000000</td>\n      <td>0.0</td>\n      <td>3.000000</td>\n      <td>28.000000</td>\n      <td>0.000000</td>\n      <td>0.000000</td>\n      <td>10.500000</td>\n    </tr>\n    <tr>\n      <th>75%</th>\n      <td>675.000000</td>\n      <td>0.0</td>\n      <td>3.000000</td>\n      <td>39.000000</td>\n      <td>1.000000</td>\n      <td>0.000000</td>\n      <td>26.000000</td>\n    </tr>\n    <tr>\n      <th>max</th>\n      <td>891.000000</td>\n      <td>0.0</td>\n      <td>3.000000</td>\n      <td>74.000000</td>\n      <td>8.000000</td>\n      <td>6.000000</td>\n      <td>263.000000</td>\n    </tr>\n  </tbody>\n</table>\n</div>"
     },
     "metadata": {},
     "execution_count": 7
    }
   ],
   "source": [
    "died.describe()"
   ]
  },
  {
   "cell_type": "code",
   "execution_count": 8,
   "metadata": {},
   "outputs": [],
   "source": [
    "train = train.drop(columns=[\"Cabin\", \"Ticket\", \"Name\", \"PassengerId\"])\n",
    "train[\"Embarked\"] = np.where((train.Embarked == \"S\"), 1, train.Embarked)\n",
    "train[\"Embarked\"] = np.where((train.Embarked == \"C\"), 2, train.Embarked)\n",
    "train[\"Embarked\"] = np.where((train.Embarked == \"Q\"), 3, train.Embarked)\n",
    "train[\"Sex\"] = np.where((train.Sex == \"male\"), 1, train.Sex)\n",
    "train[\"Sex\"] = np.where((train.Sex == \"female\"), 2, train.Sex)\n",
    "\n",
    "passenger_ids = test[\"PassengerId\"]\n",
    "test = test.drop(columns=[\"Cabin\", \"Name\", \"Ticket\", \"PassengerId\"])\n",
    "test[\"Embarked\"] = np.where((test.Embarked == \"S\"), 1, test.Embarked)\n",
    "test[\"Embarked\"] = np.where((test.Embarked == \"C\"), 2, test.Embarked)\n",
    "test[\"Embarked\"] = np.where((test.Embarked == \"Q\"), 3, test.Embarked)\n",
    "test[\"Sex\"] = np.where((test.Sex == \"male\"), 1, test.Sex)\n",
    "test[\"Sex\"] = np.where((test.Sex == \"female\"), 2, test.Sex)"
   ]
  },
  {
   "cell_type": "code",
   "execution_count": 9,
   "metadata": {},
   "outputs": [],
   "source": [
    "mean_age = np.mean(train[\"Age\"])\n",
    "mean_fare = np.mean(train[\"Fare\"])\n",
    "train[\"Age\"] = train[\"Age\"].fillna(mean_age)\n",
    "train = train.dropna(subset=[\"Embarked\"])\n",
    "test[\"Age\"] = test[\"Age\"].fillna(round(mean_age))\n",
    "test[\"Fare\"] = test[\"Fare\"].fillna(mean_fare)"
   ]
  },
  {
   "cell_type": "code",
   "execution_count": 10,
   "metadata": {},
   "outputs": [],
   "source": [
    "survived = train[train[\"Survived\"] == 1]\n",
    "died = train[train[\"Survived\"] == 0]"
   ]
  },
  {
   "cell_type": "code",
   "execution_count": 11,
   "metadata": {},
   "outputs": [],
   "source": [
    "X_train = train.drop(columns=[\"Survived\"])\n",
    "y_train = train[\"Survived\"]\n",
    "x_test = test"
   ]
  },
  {
   "source": [
    "# Decision tree classifier"
   ],
   "cell_type": "markdown",
   "metadata": {}
  },
  {
   "cell_type": "code",
   "execution_count": 12,
   "metadata": {},
   "outputs": [
    {
     "output_type": "stream",
     "name": "stdout",
     "text": [
      "[[510  39]\n [ 87 253]]\nClassification error percentage: 14.173228346456693 %\n0.8582677165354331\n"
     ]
    }
   ],
   "source": [
    "tree = DecisionTreeClassifier(max_depth=6, min_samples_leaf=10, criterion=\"entropy\")\n",
    "tree.fit(X_train, y_train)\n",
    "train_predict = tree.predict(X_train)\n",
    "train_errs = np.sum(train_predict != y_train)\n",
    "conf_mat = confusion_matrix(y_train, train_predict)\n",
    "classification_err_percent = train_errs / len(y_train) * 100\n",
    "print(conf_mat)\n",
    "print(f\"Classification error percentage: {classification_err_percent} %\")\n",
    "print(tree.score(X_train, y_train))"
   ]
  },
  {
   "cell_type": "code",
   "execution_count": 13,
   "metadata": {},
   "outputs": [],
   "source": [
    "predictions = tree.predict(x_test)\n",
    "passenger_ids = pd.DataFrame(passenger_ids)\n",
    "passenger_ids[\"Survived\"] = predictions\n",
    "passenger_ids.to_csv(\"submission.csv\", index=False)"
   ]
  },
  {
   "source": [
    "# Naive Bayes"
   ],
   "cell_type": "markdown",
   "metadata": {}
  },
  {
   "cell_type": "code",
   "execution_count": 14,
   "metadata": {},
   "outputs": [],
   "source": [
    "prob_survived = len(survived) / len(train)\n",
    "prob_died = len(died) / len(train)\n",
    "n_survived = len(survived)\n",
    "n_died = len(died)"
   ]
  },
  {
   "cell_type": "code",
   "execution_count": 15,
   "metadata": {},
   "outputs": [],
   "source": [
    "pclass = {}\n",
    "sex = {}\n",
    "embarked = {}"
   ]
  },
  {
   "cell_type": "code",
   "execution_count": 16,
   "metadata": {},
   "outputs": [],
   "source": [
    "pclass_counts_s = survived[\"Pclass\"].value_counts()\n",
    "pclass_counts_d = died[\"Pclass\"].value_counts()\n",
    "sex_counts_s = survived[\"Sex\"].value_counts()\n",
    "sex_counts_d = died[\"Sex\"].value_counts()\n",
    "embarked_counts_s = survived[\"Embarked\"].value_counts()\n",
    "embarked_counts_d = died[\"Embarked\"].value_counts()\n",
    "sibsp_counts_s = survived[\"SibSp\"].value_counts()\n",
    "sibsp_counts_d = died[\"SibSp\"].value_counts()\n",
    "parch_counts_s = survived[\"Parch\"].value_counts()\n",
    "parch_counts_d = died[\"Parch\"].value_counts()"
   ]
  },
  {
   "cell_type": "code",
   "execution_count": 17,
   "metadata": {},
   "outputs": [],
   "source": [
    "probabilities = {}\n",
    "probabilities[\"pclass_survived\"] = {}\n",
    "probabilities[\"pclass_died\"] = {}\n",
    "probabilities[\"embarked_survived\"] = {}\n",
    "probabilities[\"embarked_died\"] = {}\n",
    "probabilities[\"sex_survived\"] = {}\n",
    "probabilities[\"sex_died\"] = {}"
   ]
  },
  {
   "cell_type": "code",
   "execution_count": 18,
   "metadata": {},
   "outputs": [],
   "source": [
    "for i in range(1,4):\n",
    "    probabilities[\"pclass_survived\"][str(i)] = pclass_counts_s[i] / n_survived\n",
    "    probabilities[\"pclass_died\"][str(i)] = pclass_counts_d[i] / n_died\n",
    "    probabilities[\"embarked_survived\"][str(i)] = embarked_counts_s[i] / n_survived\n",
    "    probabilities[\"embarked_died\"][str(i)] = embarked_counts_d[i] / n_died"
   ]
  },
  {
   "cell_type": "code",
   "execution_count": 19,
   "metadata": {},
   "outputs": [],
   "source": [
    "for i in range(1,3):\n",
    "    probabilities[\"sex_survived\"][str(i)] = sex_counts_s[i] / n_survived\n",
    "    probabilities[\"sex_died\"][str(i)] = sex_counts_d[i] / n_died"
   ]
  },
  {
   "source": [
    "Treating the sibsp and parch as categorical"
   ],
   "cell_type": "markdown",
   "metadata": {}
  },
  {
   "cell_type": "code",
   "execution_count": 20,
   "metadata": {},
   "outputs": [],
   "source": [
    "# sibsp_counts_d.sort_index(inplace=True)\n",
    "# sibsp_counts_s.sort_index(inplace=True)\n",
    "# parch_counts_s.sort_index(inplace=True)\n",
    "# parch_counts_d.sort_index(inplace=True)"
   ]
  },
  {
   "cell_type": "code",
   "execution_count": 21,
   "metadata": {},
   "outputs": [],
   "source": [
    "# probabilities[\"parch_survived\"] = {}\n",
    "# probabilities[\"parch_died\"] = {}\n",
    "# probabilities[\"sibsp_survived\"] = {}\n",
    "# probabilities[\"sibsp_died\"] = {}\n",
    "\n",
    "# for i in range(len(parch_counts_d)):\n",
    "#     probabilities[\"parch_died\"][str(parch_counts_d.index[i])] = parch_counts_d[parch_counts_d.index[i]] / n_died\n",
    "\n",
    "# for i in range(len(parch_counts_s)):\n",
    "#     probabilities[\"parch_survived\"][str(parch_counts_s.index[4])] = parch_counts_s[parch_counts_s.index[i]] / n_survived\n",
    "\n",
    "# for i in range(len(sibsp_counts_d)):\n",
    "#     probabilities[\"sibsp_died\"][str(sibsp_counts_d.index[i])] = sibsp_counts_d[sibsp_counts_d.index[i]] / n_died\n",
    "\n",
    "# for i in range(len(sibsp_counts_s)):\n",
    "#     probabilities[\"sibsp_survived\"][str(sibsp_counts_s.index[i])] = sibsp_counts_s[sibsp_counts_s.index[i]] / n_survived\n"
   ]
  },
  {
   "source": [
    "treating the sibsp and parch as numerical"
   ],
   "cell_type": "markdown",
   "metadata": {}
  },
  {
   "cell_type": "code",
   "execution_count": 22,
   "metadata": {},
   "outputs": [],
   "source": [
    "survived_mean_parch = np.mean(survived[\"Parch\"])\n",
    "died_mean_parch = np.mean(died[\"Parch\"])\n",
    "survived_std_parch = np.std(survived[\"Parch\"])\n",
    "died_std_parch = np.std(died[\"Parch\"])\n",
    "\n",
    "survived_mean_sibsp = np.mean(survived[\"SibSp\"])\n",
    "died_mean_sibsp = np.mean(died[\"SibSp\"])\n",
    "survived_std_sibsp = np.std(survived[\"SibSp\"])\n",
    "died_std_sibsp = np.std(died[\"SibSp\"])"
   ]
  },
  {
   "cell_type": "code",
   "execution_count": 23,
   "metadata": {},
   "outputs": [],
   "source": [
    "def get_probability(mean, std, x):\n",
    "    exponent = -(x - mean)**2 / (2*(std**2))\n",
    "    probability = 1/(math.sqrt(2 * math.pi) * std) * math.e ** exponent\n",
    "    return probability"
   ]
  },
  {
   "cell_type": "code",
   "execution_count": 24,
   "metadata": {},
   "outputs": [],
   "source": [
    "survived_mean_age = np.mean(survived[\"Age\"])\n",
    "died_mean_age = np.mean(died[\"Age\"])\n",
    "survived_std_age = np.std(survived[\"Age\"])\n",
    "died_std_age = np.std(died[\"Age\"])\n",
    "\n",
    "survived_mean_fare = np.mean(survived[\"Fare\"])\n",
    "died_mean_fare = np.mean(died[\"Fare\"])\n",
    "survived_std_fare = np.std(survived[\"Fare\"])\n",
    "died_std_fare = np.std(died[\"Fare\"])"
   ]
  },
  {
   "cell_type": "code",
   "execution_count": 25,
   "metadata": {},
   "outputs": [
    {
     "output_type": "stream",
     "name": "stdout",
     "text": [
      "{'pclass_survived': {'1': 0.3941176470588235, '2': 0.25588235294117645, '3': 0.35}, 'pclass_died': {'1': 0.14571948998178508, '2': 0.1766848816029144, '3': 0.6775956284153005}, 'embarked_survived': {'1': 0.638235294117647, '2': 0.2735294117647059, '3': 0.08823529411764706}, 'embarked_died': {'1': 0.7777777777777778, '2': 0.1366120218579235, '3': 0.08561020036429873}, 'sex_survived': {'1': 0.3205882352941177, '2': 0.6794117647058824}, 'sex_died': {'1': 0.8524590163934426, '2': 0.14754098360655737}}\n"
     ]
    }
   ],
   "source": [
    "print(probabilities)"
   ]
  },
  {
   "cell_type": "code",
   "execution_count": 26,
   "metadata": {},
   "outputs": [],
   "source": [
    "nb_predictions = []\n",
    "for i in range(len(test)):\n",
    "    pclass = test.loc[i][\"Pclass\"]\n",
    "    sex = test.loc[i][\"Sex\"]\n",
    "    age = test.loc[i][\"Age\"]\n",
    "    sibsp = test.loc[i][\"SibSp\"]\n",
    "    fare = test.loc[i][\"Fare\"]\n",
    "    parch = test.loc[i][\"Parch\"]\n",
    "    embarked = test.loc[i][\"Embarked\"]\n",
    "\n",
    "    survived_pclass_prob = probabilities[\"pclass_survived\"][str(pclass)]\n",
    "    survived_sex_prob = probabilities[\"sex_survived\"][str(sex)]\n",
    "    survived_embarked_prob = probabilities[\"embarked_survived\"][str(embarked)]\n",
    "    survived_age_prob = get_probability(survived_mean_age, survived_std_age, age)\n",
    "    survived_sibsp_prob = get_probability(survived_mean_sibsp, survived_std_sibsp, sibsp)\n",
    "    survived_fare_prob = get_probability(survived_mean_fare, survived_std_fare, fare)\n",
    "    survived_parch_prob = get_probability(survived_mean_parch, survived_std_parch, parch)\n",
    "\n",
    "    died_pclass_prob = probabilities[\"pclass_died\"][str(pclass)]\n",
    "    died_sex_prob = probabilities[\"sex_died\"][str(sex)]\n",
    "    died_embarked_prob = probabilities[\"embarked_died\"][str(embarked)]\n",
    "    died_age_prob = get_probability(died_mean_age, died_std_age, age)\n",
    "    died_sibsp_prob = get_probability(died_mean_sibsp, died_std_sibsp, sibsp)\n",
    "    died_fare_prob = get_probability(died_mean_fare, died_std_fare, fare)\n",
    "    died_parch_prob = get_probability(died_mean_parch, died_std_parch, parch)\n",
    "\n",
    "    # probability_survived = prob_survived * survived_age_prob * survived_embarked_prob * survived_fare_prob * survived_parch_prob * survived_sibsp_prob * survived_sex_prob * survived_pclass_prob\n",
    "    probability_survived = prob_survived * survived_embarked_prob * survived_fare_prob * survived_sex_prob * survived_pclass_prob * survived_parch_prob\n",
    "\n",
    "    probability_died = prob_died * died_embarked_prob * died_fare_prob * died_pclass_prob * died_sex_prob * died_parch_prob\n",
    "\n",
    "    if probability_survived > probability_died:\n",
    "        nb_predictions.append(1)\n",
    "    if probability_died > probability_survived:\n",
    "        nb_predictions.append(0)\n"
   ]
  },
  {
   "cell_type": "code",
   "execution_count": 27,
   "metadata": {},
   "outputs": [],
   "source": [
    "passenger_ids[\"Survived\"] = nb_predictions\n",
    "passenger_ids.to_csv(\"submission_nb.csv\", index=False)"
   ]
  },
  {
   "source": [
    "# Random Forest"
   ],
   "cell_type": "markdown",
   "metadata": {}
  },
  {
   "cell_type": "code",
   "execution_count": 28,
   "metadata": {},
   "outputs": [
    {
     "output_type": "stream",
     "name": "stdout",
     "text": [
      "[[542   7]\n [ 15 325]]\n0.9752530933633295\n"
     ]
    }
   ],
   "source": [
    "rf = RandomForestClassifier(n_estimators=100, max_depth=None, min_samples_split=3)\n",
    "rf.fit(X_train, y_train)\n",
    "rf_train_preds = rf.predict(X_train)\n",
    "rf_predictions = rf.predict(x_test)\n",
    "rf_train_errs = np.sum(rf_train_preds != y_train)\n",
    "rf_cm = confusion_matrix(y_train, rf_train_preds)\n",
    "print(rf_cm)\n",
    "print(rf.score(X_train, y_train))"
   ]
  },
  {
   "cell_type": "code",
   "execution_count": 29,
   "metadata": {},
   "outputs": [],
   "source": [
    "passenger_ids[\"Survived\"] = rf_predictions\n",
    "passenger_ids.to_csv(\"submission_rf.csv\", index=False)"
   ]
  },
  {
   "cell_type": "code",
   "execution_count": null,
   "metadata": {},
   "outputs": [],
   "source": []
  }
 ]
}