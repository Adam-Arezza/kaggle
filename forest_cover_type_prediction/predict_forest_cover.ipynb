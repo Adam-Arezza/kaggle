{
 "cells": [
  {
   "cell_type": "code",
   "execution_count": 2,
   "metadata": {},
   "outputs": [],
   "source": [
    "import numpy as np\n",
    "import pandas as pd\n",
    "from joblib import load"
   ]
  },
  {
   "cell_type": "code",
   "execution_count": 13,
   "metadata": {},
   "outputs": [],
   "source": [
    "with open(\"best_feature.txt\", 'r') as bf:\n",
    "    best_features = bf.readlines()\n",
    "    best_features = best_features[0].split(\",\")\n",
    "\n",
    "for i in best_features:\n",
    "    if not i:\n",
    "        best_features.remove(i)\n"
   ]
  },
  {
   "cell_type": "code",
   "execution_count": 7,
   "metadata": {},
   "outputs": [],
   "source": [
    "test_data = pd.read_csv(\"test.csv\")\n",
    "test_ids = test_data[\"Id\"]\n",
    "# test_data = test_data[best_features]\n",
    "test_np = test_data.drop(columns=[\"Id\"]).to_numpy()"
   ]
  },
  {
   "cell_type": "code",
   "execution_count": 8,
   "metadata": {},
   "outputs": [],
   "source": [
    "test_means = np.mean(test_np, axis=0)\n",
    "test_scaler = 1 / np.std(test_np - test_means, axis=0)\n",
    "test_centered_scaled = (test_np - test_means) * test_scaler\n",
    "test_centered_scaled = np.nan_to_num(test_centered_scaled)"
   ]
  },
  {
   "cell_type": "code",
   "execution_count": 18,
   "metadata": {},
   "outputs": [],
   "source": [
    "svm_model = load(\"svm_model.joblib\")"
   ]
  },
  {
   "cell_type": "code",
   "execution_count": 19,
   "metadata": {},
   "outputs": [],
   "source": [
    "predictions = svm_model.predict(test_centered_scaled)\n",
    "submission = pd.DataFrame()\n",
    "submission[\"Id\"] = test_ids\n",
    "submission[\"Cover_Type\"] = predictions.astype(\"int\")\n",
    "submission.to_csv(\"svm_r_submission.csv\", index=False)"
   ]
  },
  {
   "cell_type": "code",
   "execution_count": 9,
   "metadata": {},
   "outputs": [],
   "source": [
    "rf_model = load(\"rf_model.joblib\")"
   ]
  },
  {
   "cell_type": "code",
   "execution_count": 10,
   "metadata": {},
   "outputs": [],
   "source": [
    "predictions = rf_model.predict(test_centered_scaled)\n",
    "submission = pd.DataFrame()\n",
    "submission[\"Id\"] = test_ids\n",
    "submission[\"Cover_Type\"] = predictions.astype(\"int\")\n",
    "submission.to_csv(\"rf_submission.csv\", index=False)"
   ]
  },
  {
   "cell_type": "code",
   "execution_count": null,
   "metadata": {},
   "outputs": [],
   "source": [
    "stack = load(\"stack_model.joblib\")\n",
    "predictions = stack.predict(test_centered_scaled)\n",
    "submission = pd.DataFrame()\n",
    "submission[\"Id\"] = test_ids\n",
    "submission[\"Cover_Type\"] = predictions.astype(\"int\")\n",
    "submission.to_csv(\"stack_submission.csv\", index=False)"
   ]
  }
 ],
 "metadata": {
  "kernelspec": {
   "display_name": "Python 3.7.8 ('env': venv)",
   "language": "python",
   "name": "python3"
  },
  "language_info": {
   "codemirror_mode": {
    "name": "ipython",
    "version": 3
   },
   "file_extension": ".py",
   "mimetype": "text/x-python",
   "name": "python",
   "nbconvert_exporter": "python",
   "pygments_lexer": "ipython3",
   "version": "3.7.8"
  },
  "orig_nbformat": 4,
  "vscode": {
   "interpreter": {
    "hash": "471e4514822bba97033fdddc3554a3cf3f67b22bffe9fe236ece00d47c641404"
   }
  }
 },
 "nbformat": 4,
 "nbformat_minor": 2
}
