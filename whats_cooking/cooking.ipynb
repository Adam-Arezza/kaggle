{
 "cells": [
  {
   "cell_type": "code",
   "execution_count": 1,
   "id": "26038867",
   "metadata": {},
   "outputs": [],
   "source": [
    "import pandas as pd\n",
    "from sklearn.model_selection import train_test_split\n",
    "from sklearn.preprocessing import MinMaxScaler, LabelBinarizer\n",
    "import matplotlib.pyplot as plt\n",
    "import seaborn as sb"
   ]
  },
  {
   "cell_type": "code",
   "execution_count": 2,
   "id": "8d74cc3a",
   "metadata": {},
   "outputs": [],
   "source": [
    "data = pd.read_json(\"train.json/train.json\")"
   ]
  },
  {
   "cell_type": "code",
   "execution_count": 3,
   "id": "1defe684",
   "metadata": {},
   "outputs": [
    {
     "data": {
      "application/vnd.microsoft.datawrangler.viewer.v0+json": {
       "columns": [
        {
         "name": "cuisine",
         "rawType": "object",
         "type": "string"
        },
        {
         "name": "count",
         "rawType": "int64",
         "type": "integer"
        }
       ],
       "ref": "9754f2d4-8ed8-4732-93a3-05e42fc43c4a",
       "rows": [
        [
         "italian",
         "7838"
        ],
        [
         "mexican",
         "6438"
        ],
        [
         "southern_us",
         "4320"
        ],
        [
         "indian",
         "3003"
        ],
        [
         "chinese",
         "2673"
        ],
        [
         "french",
         "2646"
        ],
        [
         "cajun_creole",
         "1546"
        ],
        [
         "thai",
         "1539"
        ],
        [
         "japanese",
         "1423"
        ],
        [
         "greek",
         "1175"
        ],
        [
         "spanish",
         "989"
        ],
        [
         "korean",
         "830"
        ],
        [
         "vietnamese",
         "825"
        ],
        [
         "moroccan",
         "821"
        ],
        [
         "british",
         "804"
        ],
        [
         "filipino",
         "755"
        ],
        [
         "irish",
         "667"
        ],
        [
         "jamaican",
         "526"
        ],
        [
         "russian",
         "489"
        ],
        [
         "brazilian",
         "467"
        ]
       ],
       "shape": {
        "columns": 1,
        "rows": 20
       }
      },
      "text/plain": [
       "cuisine\n",
       "italian         7838\n",
       "mexican         6438\n",
       "southern_us     4320\n",
       "indian          3003\n",
       "chinese         2673\n",
       "french          2646\n",
       "cajun_creole    1546\n",
       "thai            1539\n",
       "japanese        1423\n",
       "greek           1175\n",
       "spanish          989\n",
       "korean           830\n",
       "vietnamese       825\n",
       "moroccan         821\n",
       "british          804\n",
       "filipino         755\n",
       "irish            667\n",
       "jamaican         526\n",
       "russian          489\n",
       "brazilian        467\n",
       "Name: count, dtype: int64"
      ]
     },
     "execution_count": 3,
     "metadata": {},
     "output_type": "execute_result"
    }
   ],
   "source": [
    "#check balance of categories\n",
    "data['cuisine'].value_counts()"
   ]
  },
  {
   "cell_type": "code",
   "execution_count": 4,
   "id": "6c0736cc",
   "metadata": {},
   "outputs": [],
   "source": [
    "cuisine_counts = data['cuisine'].value_counts()\n",
    "percentages = [round((i / cuisine_counts.sum())*100, 2) for i in cuisine_counts]\n",
    "cuisine = {\n",
    "    \"count\":cuisine_counts.values,\n",
    "    \"percentage\":percentages\n",
    "}\n",
    "cuisine_df = pd.DataFrame(cuisine)"
   ]
  },
  {
   "cell_type": "code",
   "execution_count": null,
   "id": "0ebd9762",
   "metadata": {},
   "outputs": [],
   "source": []
  },
  {
   "cell_type": "code",
   "execution_count": null,
   "id": "5ce0f7b0",
   "metadata": {},
   "outputs": [
    {
     "ename": "AttributeError",
     "evalue": "'numpy.ndarray' object has no attribute 'value_count'",
     "output_type": "error",
     "traceback": [
      "\u001b[31m---------------------------------------------------------------------------\u001b[39m",
      "\u001b[31mAttributeError\u001b[39m                            Traceback (most recent call last)",
      "\u001b[36mCell\u001b[39m\u001b[36m \u001b[39m\u001b[32mIn[4]\u001b[39m\u001b[32m, line 1\u001b[39m\n\u001b[32m----> \u001b[39m\u001b[32m1\u001b[39m \u001b[43mcuisine_labels\u001b[49m\u001b[43m.\u001b[49m\u001b[43mvalue_count\u001b[49m()\n",
      "\u001b[31mAttributeError\u001b[39m: 'numpy.ndarray' object has no attribute 'value_count'"
     ]
    }
   ],
   "source": [
    "lb = LabelBinarizer()\n",
    "lb.fit(data['cuisine'])\n",
    "cuisines = lb.transform(data['cuisine'])\n",
    "data.drop(columns=['cuisine'], inplace=True)\n",
    "cuisine_labels = lb.inverse_transform(cuisines)"
   ]
  }
 ],
 "metadata": {
  "kernelspec": {
   "display_name": "venv",
   "language": "python",
   "name": "python3"
  },
  "language_info": {
   "codemirror_mode": {
    "name": "ipython",
    "version": 3
   },
   "file_extension": ".py",
   "mimetype": "text/x-python",
   "name": "python",
   "nbconvert_exporter": "python",
   "pygments_lexer": "ipython3",
   "version": "3.12.7"
  }
 },
 "nbformat": 4,
 "nbformat_minor": 5
}
