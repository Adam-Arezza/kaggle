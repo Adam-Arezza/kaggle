{
 "cells": [
  {
   "cell_type": "code",
   "execution_count": 10,
   "metadata": {},
   "outputs": [],
   "source": [
    "import pandas as pd\n",
    "import numpy as np\n",
    "import matplotlib.pyplot as plt\n",
    "from sklearn.feature_extraction.text import TfidfVectorizer\n",
    "from sklearn.model_selection import train_test_split\n",
    "import tensorflow as tf\n",
    "from tensorflow.keras.callbacks import EarlyStopping\n",
    "import string\n",
    "import re\n",
    "tf.random.set_seed(11)\n"
   ]
  },
  {
   "cell_type": "code",
   "execution_count": 11,
   "metadata": {},
   "outputs": [
    {
     "name": "stdout",
     "output_type": "stream",
     "text": [
      "Num GPUs Available:  1\n",
      "[PhysicalDevice(name='/physical_device:GPU:0', device_type='GPU')]\n"
     ]
    }
   ],
   "source": [
    "physical_devices = tf.config.experimental.list_physical_devices(\"GPU\")\n",
    "print(\"Num GPUs Available: \", len(tf.config.list_physical_devices(\"GPU\")))\n",
    "\n",
    "print(physical_devices)\n",
    "tf.config.experimental.set_memory_growth(physical_devices[0], enable=True)\n"
   ]
  },
  {
   "cell_type": "code",
   "execution_count": 12,
   "metadata": {},
   "outputs": [],
   "source": [
    "pd_data_train = pd.read_csv('train.csv')\n",
    "pd_data_train = pd_data_train.fillna(0)\n",
    "# pd_data_train = pd.get_dummies(pd_data_train, columns=['keyword'])\n",
    "pd_data_train.drop(columns=['location','keyword'], inplace=True)"
   ]
  },
  {
   "cell_type": "code",
   "execution_count": 14,
   "metadata": {},
   "outputs": [],
   "source": [
    "X = pd_data_train.drop(columns=['target','id']).to_numpy()\n",
    "Y = pd_data_train['target'].to_numpy()\n",
    "Y = tf.keras.utils.to_categorical(Y, 2)"
   ]
  },
  {
   "cell_type": "code",
   "execution_count": null,
   "metadata": {},
   "outputs": [],
   "source": [
    "# tfidf = TfidfVectorizer(ngram_range=(1,1), max_features=2500)\n",
    "# x_preprocessed = []\n",
    "# for i in range(len(X[:,0:1])):\n",
    "#     print(X[i:i+1][0][0])\n",
    "#     tokens = X[i:i+1][0][0].split()\n",
    "#     tokens = [i.lower() for i in tokens]\n",
    "#     tokens = [i.translate(str.maketrans('', '', string.punctuation)) for i in tokens]\n",
    "#     tokens = [re.sub(\"\\s+\", \" \", i) for i in tokens]\n",
    "#     x_preprocessed.append(\" \".join(tokens))\n",
    "# x_tf = tfidf.fit_transform(x_preprocessed).toarray()\n",
    "# x_tf = np.concatenate((x_tf, X[:,1:]), axis=1).astype('float32')\n",
    "# x_train, x_test, y_train, y_test = train_test_split(x_tf, Y, test_size=0.2, random_state=23)\n",
    "# # y_train = y_train.flatten()"
   ]
  },
  {
   "cell_type": "markdown",
   "metadata": {},
   "source": [
    "Word Embeddings\n"
   ]
  },
  {
   "cell_type": "code",
   "execution_count": 16,
   "metadata": {},
   "outputs": [
    {
     "ename": "AttributeError",
     "evalue": "'numpy.ndarray' object has no attribute 'lower'",
     "output_type": "error",
     "traceback": [
      "\u001b[1;31m---------------------------------------------------------------------------\u001b[0m",
      "\u001b[1;31mAttributeError\u001b[0m                            Traceback (most recent call last)",
      "Cell \u001b[1;32mIn [16], line 2\u001b[0m\n\u001b[0;32m      1\u001b[0m tokenizer \u001b[39m=\u001b[39m tf\u001b[39m.\u001b[39mkeras\u001b[39m.\u001b[39mpreprocessing\u001b[39m.\u001b[39mtext\u001b[39m.\u001b[39mTokenizer(num_words\u001b[39m=\u001b[39m\u001b[39m200\u001b[39m)\n\u001b[1;32m----> 2\u001b[0m tokenizer\u001b[39m.\u001b[39;49mfit_on_texts(X)\n\u001b[0;32m      3\u001b[0m word_index \u001b[39m=\u001b[39m tokenizer\u001b[39m.\u001b[39mword_index\n\u001b[0;32m      5\u001b[0m sequences \u001b[39m=\u001b[39m tokenizer\u001b[39m.\u001b[39mtexts_to_sequences(x)\n",
      "File \u001b[1;32md:\\kaggle_competitions\\nlp-getting-started\\env\\lib\\site-packages\\keras\\preprocessing\\text.py:293\u001b[0m, in \u001b[0;36mTokenizer.fit_on_texts\u001b[1;34m(self, texts)\u001b[0m\n\u001b[0;32m    291\u001b[0m \u001b[39melse\u001b[39;00m:\n\u001b[0;32m    292\u001b[0m     \u001b[39mif\u001b[39;00m \u001b[39mself\u001b[39m\u001b[39m.\u001b[39manalyzer \u001b[39mis\u001b[39;00m \u001b[39mNone\u001b[39;00m:\n\u001b[1;32m--> 293\u001b[0m         seq \u001b[39m=\u001b[39m text_to_word_sequence(\n\u001b[0;32m    294\u001b[0m             text,\n\u001b[0;32m    295\u001b[0m             filters\u001b[39m=\u001b[39;49m\u001b[39mself\u001b[39;49m\u001b[39m.\u001b[39;49mfilters,\n\u001b[0;32m    296\u001b[0m             lower\u001b[39m=\u001b[39;49m\u001b[39mself\u001b[39;49m\u001b[39m.\u001b[39;49mlower,\n\u001b[0;32m    297\u001b[0m             split\u001b[39m=\u001b[39;49m\u001b[39mself\u001b[39;49m\u001b[39m.\u001b[39;49msplit,\n\u001b[0;32m    298\u001b[0m         )\n\u001b[0;32m    299\u001b[0m     \u001b[39melse\u001b[39;00m:\n\u001b[0;32m    300\u001b[0m         seq \u001b[39m=\u001b[39m \u001b[39mself\u001b[39m\u001b[39m.\u001b[39manalyzer(text)\n",
      "File \u001b[1;32md:\\kaggle_competitions\\nlp-getting-started\\env\\lib\\site-packages\\keras\\preprocessing\\text.py:74\u001b[0m, in \u001b[0;36mtext_to_word_sequence\u001b[1;34m(input_text, filters, lower, split)\u001b[0m\n\u001b[0;32m     46\u001b[0m \u001b[39mr\u001b[39m\u001b[39m\"\"\"Converts a text to a sequence of words (or tokens).\u001b[39;00m\n\u001b[0;32m     47\u001b[0m \n\u001b[0;32m     48\u001b[0m \u001b[39mDeprecated: `tf.keras.preprocessing.text.text_to_word_sequence` does not\u001b[39;00m\n\u001b[1;32m   (...)\u001b[0m\n\u001b[0;32m     71\u001b[0m \u001b[39m    A list of words (or tokens).\u001b[39;00m\n\u001b[0;32m     72\u001b[0m \u001b[39m\"\"\"\u001b[39;00m\n\u001b[0;32m     73\u001b[0m \u001b[39mif\u001b[39;00m lower:\n\u001b[1;32m---> 74\u001b[0m     input_text \u001b[39m=\u001b[39m input_text\u001b[39m.\u001b[39;49mlower()\n\u001b[0;32m     76\u001b[0m translate_dict \u001b[39m=\u001b[39m {c: split \u001b[39mfor\u001b[39;00m c \u001b[39min\u001b[39;00m filters}\n\u001b[0;32m     77\u001b[0m translate_map \u001b[39m=\u001b[39m \u001b[39mstr\u001b[39m\u001b[39m.\u001b[39mmaketrans(translate_dict)\n",
      "\u001b[1;31mAttributeError\u001b[0m: 'numpy.ndarray' object has no attribute 'lower'"
     ]
    }
   ],
   "source": [
    "tokenizer = tf.keras.preprocessing.text.Tokenizer(num_words=200)\n",
    "tokenizer.fit_on_texts(X)\n",
    "word_index = tokenizer.word_index\n",
    "\n",
    "sequences = tokenizer.texts_to_sequences(x)\n",
    "padder = tf.keras.preprocessing.sequence.pad_sequences\n",
    "padded = padder(sequences, padding='post')\n",
    "\n",
    "vocab_size = len(word_index) + 1\n",
    "\n",
    "padded.shape\n"
   ]
  },
  {
   "cell_type": "markdown",
   "metadata": {},
   "source": [
    "TFIDF vectorizer\n"
   ]
  },
  {
   "cell_type": "code",
   "execution_count": 6,
   "metadata": {},
   "outputs": [
    {
     "ename": "AttributeError",
     "evalue": "'numpy.ndarray' object has no attribute 'lower'",
     "output_type": "error",
     "traceback": [
      "\u001b[1;31m---------------------------------------------------------------------------\u001b[0m",
      "\u001b[1;31mAttributeError\u001b[0m                            Traceback (most recent call last)",
      "Cell \u001b[1;32mIn [6], line 2\u001b[0m\n\u001b[0;32m      1\u001b[0m tfidf \u001b[39m=\u001b[39m TfidfVectorizer(ngram_range\u001b[39m=\u001b[39m(\u001b[39m1\u001b[39m, \u001b[39m1\u001b[39m), max_features\u001b[39m=\u001b[39m\u001b[39m2000\u001b[39m)\n\u001b[1;32m----> 2\u001b[0m x \u001b[39m=\u001b[39m tfidf\u001b[39m.\u001b[39;49mfit_transform(X)\u001b[39m.\u001b[39mtoarray()\n",
      "File \u001b[1;32md:\\kaggle_competitions\\nlp-getting-started\\env\\lib\\site-packages\\sklearn\\feature_extraction\\text.py:2079\u001b[0m, in \u001b[0;36mTfidfVectorizer.fit_transform\u001b[1;34m(self, raw_documents, y)\u001b[0m\n\u001b[0;32m   2072\u001b[0m \u001b[39mself\u001b[39m\u001b[39m.\u001b[39m_check_params()\n\u001b[0;32m   2073\u001b[0m \u001b[39mself\u001b[39m\u001b[39m.\u001b[39m_tfidf \u001b[39m=\u001b[39m TfidfTransformer(\n\u001b[0;32m   2074\u001b[0m     norm\u001b[39m=\u001b[39m\u001b[39mself\u001b[39m\u001b[39m.\u001b[39mnorm,\n\u001b[0;32m   2075\u001b[0m     use_idf\u001b[39m=\u001b[39m\u001b[39mself\u001b[39m\u001b[39m.\u001b[39muse_idf,\n\u001b[0;32m   2076\u001b[0m     smooth_idf\u001b[39m=\u001b[39m\u001b[39mself\u001b[39m\u001b[39m.\u001b[39msmooth_idf,\n\u001b[0;32m   2077\u001b[0m     sublinear_tf\u001b[39m=\u001b[39m\u001b[39mself\u001b[39m\u001b[39m.\u001b[39msublinear_tf,\n\u001b[0;32m   2078\u001b[0m )\n\u001b[1;32m-> 2079\u001b[0m X \u001b[39m=\u001b[39m \u001b[39msuper\u001b[39;49m()\u001b[39m.\u001b[39;49mfit_transform(raw_documents)\n\u001b[0;32m   2080\u001b[0m \u001b[39mself\u001b[39m\u001b[39m.\u001b[39m_tfidf\u001b[39m.\u001b[39mfit(X)\n\u001b[0;32m   2081\u001b[0m \u001b[39m# X is already a transformed view of raw_documents so\u001b[39;00m\n\u001b[0;32m   2082\u001b[0m \u001b[39m# we set copy to False\u001b[39;00m\n",
      "File \u001b[1;32md:\\kaggle_competitions\\nlp-getting-started\\env\\lib\\site-packages\\sklearn\\feature_extraction\\text.py:1338\u001b[0m, in \u001b[0;36mCountVectorizer.fit_transform\u001b[1;34m(self, raw_documents, y)\u001b[0m\n\u001b[0;32m   1330\u001b[0m             warnings\u001b[39m.\u001b[39mwarn(\n\u001b[0;32m   1331\u001b[0m                 \u001b[39m\"\u001b[39m\u001b[39mUpper case characters found in\u001b[39m\u001b[39m\"\u001b[39m\n\u001b[0;32m   1332\u001b[0m                 \u001b[39m\"\u001b[39m\u001b[39m vocabulary while \u001b[39m\u001b[39m'\u001b[39m\u001b[39mlowercase\u001b[39m\u001b[39m'\u001b[39m\u001b[39m\"\u001b[39m\n\u001b[0;32m   1333\u001b[0m                 \u001b[39m\"\u001b[39m\u001b[39m is True. These entries will not\u001b[39m\u001b[39m\"\u001b[39m\n\u001b[0;32m   1334\u001b[0m                 \u001b[39m\"\u001b[39m\u001b[39m be matched with any documents\u001b[39m\u001b[39m\"\u001b[39m\n\u001b[0;32m   1335\u001b[0m             )\n\u001b[0;32m   1336\u001b[0m             \u001b[39mbreak\u001b[39;00m\n\u001b[1;32m-> 1338\u001b[0m vocabulary, X \u001b[39m=\u001b[39m \u001b[39mself\u001b[39;49m\u001b[39m.\u001b[39;49m_count_vocab(raw_documents, \u001b[39mself\u001b[39;49m\u001b[39m.\u001b[39;49mfixed_vocabulary_)\n\u001b[0;32m   1340\u001b[0m \u001b[39mif\u001b[39;00m \u001b[39mself\u001b[39m\u001b[39m.\u001b[39mbinary:\n\u001b[0;32m   1341\u001b[0m     X\u001b[39m.\u001b[39mdata\u001b[39m.\u001b[39mfill(\u001b[39m1\u001b[39m)\n",
      "File \u001b[1;32md:\\kaggle_competitions\\nlp-getting-started\\env\\lib\\site-packages\\sklearn\\feature_extraction\\text.py:1209\u001b[0m, in \u001b[0;36mCountVectorizer._count_vocab\u001b[1;34m(self, raw_documents, fixed_vocab)\u001b[0m\n\u001b[0;32m   1207\u001b[0m \u001b[39mfor\u001b[39;00m doc \u001b[39min\u001b[39;00m raw_documents:\n\u001b[0;32m   1208\u001b[0m     feature_counter \u001b[39m=\u001b[39m {}\n\u001b[1;32m-> 1209\u001b[0m     \u001b[39mfor\u001b[39;00m feature \u001b[39min\u001b[39;00m analyze(doc):\n\u001b[0;32m   1210\u001b[0m         \u001b[39mtry\u001b[39;00m:\n\u001b[0;32m   1211\u001b[0m             feature_idx \u001b[39m=\u001b[39m vocabulary[feature]\n",
      "File \u001b[1;32md:\\kaggle_competitions\\nlp-getting-started\\env\\lib\\site-packages\\sklearn\\feature_extraction\\text.py:111\u001b[0m, in \u001b[0;36m_analyze\u001b[1;34m(doc, analyzer, tokenizer, ngrams, preprocessor, decoder, stop_words)\u001b[0m\n\u001b[0;32m    109\u001b[0m \u001b[39melse\u001b[39;00m:\n\u001b[0;32m    110\u001b[0m     \u001b[39mif\u001b[39;00m preprocessor \u001b[39mis\u001b[39;00m \u001b[39mnot\u001b[39;00m \u001b[39mNone\u001b[39;00m:\n\u001b[1;32m--> 111\u001b[0m         doc \u001b[39m=\u001b[39m preprocessor(doc)\n\u001b[0;32m    112\u001b[0m     \u001b[39mif\u001b[39;00m tokenizer \u001b[39mis\u001b[39;00m \u001b[39mnot\u001b[39;00m \u001b[39mNone\u001b[39;00m:\n\u001b[0;32m    113\u001b[0m         doc \u001b[39m=\u001b[39m tokenizer(doc)\n",
      "File \u001b[1;32md:\\kaggle_competitions\\nlp-getting-started\\env\\lib\\site-packages\\sklearn\\feature_extraction\\text.py:69\u001b[0m, in \u001b[0;36m_preprocess\u001b[1;34m(doc, accent_function, lower)\u001b[0m\n\u001b[0;32m     50\u001b[0m \u001b[39m\"\"\"Chain together an optional series of text preprocessing steps to\u001b[39;00m\n\u001b[0;32m     51\u001b[0m \u001b[39mapply to a document.\u001b[39;00m\n\u001b[0;32m     52\u001b[0m \n\u001b[1;32m   (...)\u001b[0m\n\u001b[0;32m     66\u001b[0m \u001b[39m    preprocessed string\u001b[39;00m\n\u001b[0;32m     67\u001b[0m \u001b[39m\"\"\"\u001b[39;00m\n\u001b[0;32m     68\u001b[0m \u001b[39mif\u001b[39;00m lower:\n\u001b[1;32m---> 69\u001b[0m     doc \u001b[39m=\u001b[39m doc\u001b[39m.\u001b[39;49mlower()\n\u001b[0;32m     70\u001b[0m \u001b[39mif\u001b[39;00m accent_function \u001b[39mis\u001b[39;00m \u001b[39mnot\u001b[39;00m \u001b[39mNone\u001b[39;00m:\n\u001b[0;32m     71\u001b[0m     doc \u001b[39m=\u001b[39m accent_function(doc)\n",
      "\u001b[1;31mAttributeError\u001b[0m: 'numpy.ndarray' object has no attribute 'lower'"
     ]
    }
   ],
   "source": [
    "# tfidf = TfidfVectorizer(ngram_range=(1, 1), max_features=2000)\n",
    "# x = tfidf.fit_transform(X).toarray()\n"
   ]
  },
  {
   "cell_type": "code",
   "execution_count": 9,
   "metadata": {},
   "outputs": [],
   "source": [
    "# x_train, x_val, y_train, y_val = train_test_split(\n",
    "#     x, Y, test_size=0.20, random_state=10)\n",
    "# x_train, x_test, y_train, y_test = train_test_split(\n",
    "#     x_train, y_train, test_size=0.10, random_state=10)\n",
    "\n",
    "# embedding_dim = 75\n",
    "# max_length = len(x_train[0])\n",
    "\n",
    "# print(x_train.shape)\n",
    "# print(y_train.shape)\n",
    "# print(x_val.shape)\n",
    "# print(y_val.shape)\n",
    "# print(x_test.shape)\n",
    "# print(y_test.shape)\n"
   ]
  },
  {
   "cell_type": "markdown",
   "metadata": {},
   "source": [
    "NN with lstm layers\n"
   ]
  },
  {
   "cell_type": "code",
   "execution_count": 8,
   "metadata": {},
   "outputs": [
    {
     "ename": "NameError",
     "evalue": "name 'vocab_size' is not defined",
     "output_type": "error",
     "traceback": [
      "\u001b[1;31m---------------------------------------------------------------------------\u001b[0m",
      "\u001b[1;31mNameError\u001b[0m                                 Traceback (most recent call last)",
      "Cell \u001b[1;32mIn [8], line 2\u001b[0m\n\u001b[0;32m      1\u001b[0m model \u001b[39m=\u001b[39m tf\u001b[39m.\u001b[39mkeras\u001b[39m.\u001b[39mSequential()\n\u001b[1;32m----> 2\u001b[0m model\u001b[39m.\u001b[39madd(tf\u001b[39m.\u001b[39mkeras\u001b[39m.\u001b[39mlayers\u001b[39m.\u001b[39mEmbedding(vocab_size, embedding_dim, input_length\u001b[39m=\u001b[39mmax_length))\n\u001b[0;32m      3\u001b[0m model\u001b[39m.\u001b[39madd(tf\u001b[39m.\u001b[39mkeras\u001b[39m.\u001b[39mlayers\u001b[39m.\u001b[39mBidirectional(tf\u001b[39m.\u001b[39mkeras\u001b[39m.\u001b[39mlayers\u001b[39m.\u001b[39mLSTM(\u001b[39m32\u001b[39m)))\n\u001b[0;32m      4\u001b[0m model\u001b[39m.\u001b[39madd(tf\u001b[39m.\u001b[39mkeras\u001b[39m.\u001b[39mlayers\u001b[39m.\u001b[39mDense(\u001b[39m16\u001b[39m, kernel_regularizer\u001b[39m=\u001b[39mtf\u001b[39m.\u001b[39mkeras\u001b[39m.\u001b[39mregularizers\u001b[39m.\u001b[39ml2(\u001b[39m0.005\u001b[39m), activation\u001b[39m=\u001b[39m\u001b[39m'\u001b[39m\u001b[39mrelu\u001b[39m\u001b[39m'\u001b[39m))\n",
      "\u001b[1;31mNameError\u001b[0m: name 'vocab_size' is not defined"
     ]
    }
   ],
   "source": [
    "model = tf.keras.Sequential()\n",
    "model.add(tf.keras.layers.Embedding(vocab_size, embedding_dim, input_length=max_length))\n",
    "model.add(tf.keras.layers.Bidirectional(tf.keras.layers.LSTM(32)))\n",
    "model.add(tf.keras.layers.Dense(16, kernel_regularizer=tf.keras.regularizers.l2(0.005), activation='relu'))\n",
    "model.add(tf.keras.layers.Dropout(0.5))\n",
    "model.add(tf.keras.layers.Dense(2, activation='sigmoid'))\n",
    "model.summary()\n"
   ]
  },
  {
   "cell_type": "markdown",
   "metadata": {},
   "source": [
    "NN using Dense layers only\n"
   ]
  },
  {
   "cell_type": "code",
   "execution_count": 11,
   "metadata": {},
   "outputs": [
    {
     "name": "stdout",
     "output_type": "stream",
     "text": [
      "Model: \"model\"\n",
      "_________________________________________________________________\n",
      " Layer (type)                Output Shape              Param #   \n",
      "=================================================================\n",
      " input_1 (InputLayer)        [(None, 2500)]            0         \n",
      "                                                                 \n",
      " dense (Dense)               (None, 1024)              2561024   \n",
      "                                                                 \n",
      " dense_1 (Dense)             (None, 128)               131200    \n",
      "                                                                 \n",
      " dense_2 (Dense)             (None, 64)                8256      \n",
      "                                                                 \n",
      " dropout (Dropout)           (None, 64)                0         \n",
      "                                                                 \n",
      " dense_3 (Dense)             (None, 16)                1040      \n",
      "                                                                 \n",
      " dense_4 (Dense)             (None, 2)                 34        \n",
      "                                                                 \n",
      "=================================================================\n",
      "Total params: 2,701,554\n",
      "Trainable params: 2,701,554\n",
      "Non-trainable params: 0\n",
      "_________________________________________________________________\n"
     ]
    }
   ],
   "source": [
    "# inputs = tf.keras.Input(shape=x_train[0].shape)\n",
    "# outputs = tf.keras.layers.Dense(1024, activation='relu')(inputs)\n",
    "# outputs = tf.keras.layers.Dense(128, kernel_regularizer=tf.keras.regularizers.l1_l2(0.001), activation='relu')(outputs)\n",
    "# outputs = tf.keras.layers.Dense(64, activation='relu')(outputs)\n",
    "# outputs = tf.keras.layers.Dropout(0.2)(outputs)\n",
    "# outputs = tf.keras.layers.Dense(16, activation='relu')(outputs)\n",
    "# outputs = tf.keras.layers.Dense(2, activation='sigmoid')(outputs)\n",
    "# model = tf.keras.Model(inputs=inputs, outputs=outputs)\n",
    "# model.summary()"
   ]
  },
  {
   "cell_type": "code",
   "execution_count": 12,
   "metadata": {},
   "outputs": [],
   "source": [
    "model.compile(optimizer=tf.keras.optimizers.Adam(\n",
    "    learning_rate=0.001), loss=\"binary_crossentropy\", metrics=['accuracy'])\n"
   ]
  },
  {
   "cell_type": "code",
   "execution_count": 13,
   "metadata": {},
   "outputs": [
    {
     "name": "stdout",
     "output_type": "stream",
     "text": [
      "Epoch 1/50\n",
      "96/96 - 2s - loss: 2.4225 - accuracy: 0.6874 - val_loss: 0.6103 - val_accuracy: 0.7905 - 2s/epoch - 17ms/step\n",
      "Epoch 2/50\n",
      "96/96 - 0s - loss: 0.4958 - accuracy: 0.8363 - val_loss: 0.5276 - val_accuracy: 0.7978 - 480ms/epoch - 5ms/step\n",
      "Epoch 3/50\n",
      "96/96 - 0s - loss: 0.3897 - accuracy: 0.8775 - val_loss: 0.5497 - val_accuracy: 0.7879 - 453ms/epoch - 5ms/step\n",
      "Epoch 4/50\n",
      "96/96 - 0s - loss: 0.3312 - accuracy: 0.9082 - val_loss: 0.6175 - val_accuracy: 0.7820 - 422ms/epoch - 4ms/step\n",
      "Epoch 5/50\n",
      "96/96 - 0s - loss: 0.2795 - accuracy: 0.9330 - val_loss: 0.6647 - val_accuracy: 0.7754 - 444ms/epoch - 5ms/step\n",
      "Epoch 6/50\n",
      "96/96 - 0s - loss: 0.2172 - accuracy: 0.9548 - val_loss: 0.7317 - val_accuracy: 0.7597 - 447ms/epoch - 5ms/step\n",
      "Epoch 7/50\n",
      "96/96 - 0s - loss: 0.1958 - accuracy: 0.9640 - val_loss: 0.7444 - val_accuracy: 0.7649 - 437ms/epoch - 5ms/step\n",
      "Epoch 8/50\n",
      "96/96 - 0s - loss: 0.1834 - accuracy: 0.9681 - val_loss: 0.8523 - val_accuracy: 0.7781 - 436ms/epoch - 5ms/step\n",
      "Epoch 9/50\n",
      "96/96 - 0s - loss: 0.1524 - accuracy: 0.9732 - val_loss: 0.8442 - val_accuracy: 0.7636 - 430ms/epoch - 4ms/step\n",
      "Epoch 10/50\n",
      "96/96 - 0s - loss: 0.1622 - accuracy: 0.9726 - val_loss: 0.9441 - val_accuracy: 0.7636 - 434ms/epoch - 5ms/step\n",
      "Epoch 11/50\n",
      "96/96 - 0s - loss: 0.1373 - accuracy: 0.9749 - val_loss: 0.9040 - val_accuracy: 0.7663 - 450ms/epoch - 5ms/step\n",
      "Epoch 12/50\n",
      "96/96 - 0s - loss: 0.1294 - accuracy: 0.9755 - val_loss: 0.9491 - val_accuracy: 0.7636 - 440ms/epoch - 5ms/step\n",
      "Epoch 13/50\n",
      "96/96 - 0s - loss: 0.1346 - accuracy: 0.9741 - val_loss: 0.8741 - val_accuracy: 0.7728 - 459ms/epoch - 5ms/step\n",
      "Epoch 14/50\n",
      "96/96 - 0s - loss: 0.1337 - accuracy: 0.9755 - val_loss: 0.9424 - val_accuracy: 0.7571 - 434ms/epoch - 5ms/step\n",
      "Epoch 15/50\n",
      "96/96 - 0s - loss: 0.1236 - accuracy: 0.9742 - val_loss: 0.9250 - val_accuracy: 0.7682 - 418ms/epoch - 4ms/step\n",
      "Epoch 16/50\n",
      "96/96 - 0s - loss: 0.1117 - accuracy: 0.9778 - val_loss: 0.9862 - val_accuracy: 0.7557 - 428ms/epoch - 4ms/step\n",
      "Epoch 17/50\n",
      "96/96 - 0s - loss: 0.1188 - accuracy: 0.9745 - val_loss: 0.9316 - val_accuracy: 0.7544 - 435ms/epoch - 5ms/step\n",
      "Epoch 18/50\n",
      "96/96 - 0s - loss: 0.1263 - accuracy: 0.9732 - val_loss: 0.8960 - val_accuracy: 0.7603 - 449ms/epoch - 5ms/step\n",
      "Epoch 19/50\n",
      "96/96 - 0s - loss: 0.1168 - accuracy: 0.9764 - val_loss: 0.9409 - val_accuracy: 0.7636 - 432ms/epoch - 4ms/step\n",
      "Epoch 20/50\n",
      "96/96 - 0s - loss: 0.1038 - accuracy: 0.9760 - val_loss: 0.9321 - val_accuracy: 0.7663 - 483ms/epoch - 5ms/step\n",
      "Epoch 21/50\n",
      "96/96 - 0s - loss: 0.1006 - accuracy: 0.9764 - val_loss: 0.9309 - val_accuracy: 0.7689 - 443ms/epoch - 5ms/step\n",
      "Epoch 22/50\n",
      "96/96 - 0s - loss: 0.1068 - accuracy: 0.9765 - val_loss: 0.9714 - val_accuracy: 0.7479 - 465ms/epoch - 5ms/step\n",
      "Epoch 23/50\n",
      "96/96 - 0s - loss: 0.1005 - accuracy: 0.9777 - val_loss: 0.9915 - val_accuracy: 0.7695 - 439ms/epoch - 5ms/step\n",
      "Epoch 24/50\n",
      "96/96 - 0s - loss: 0.0977 - accuracy: 0.9757 - val_loss: 1.0145 - val_accuracy: 0.7656 - 485ms/epoch - 5ms/step\n",
      "Epoch 25/50\n",
      "96/96 - 0s - loss: 0.0933 - accuracy: 0.9773 - val_loss: 0.9446 - val_accuracy: 0.7702 - 411ms/epoch - 4ms/step\n",
      "Epoch 26/50\n",
      "96/96 - 0s - loss: 0.0901 - accuracy: 0.9775 - val_loss: 0.9451 - val_accuracy: 0.7577 - 411ms/epoch - 4ms/step\n",
      "Epoch 27/50\n",
      "96/96 - 0s - loss: 0.0872 - accuracy: 0.9785 - val_loss: 0.9380 - val_accuracy: 0.7689 - 443ms/epoch - 5ms/step\n",
      "Epoch 28/50\n",
      "96/96 - 0s - loss: 0.0902 - accuracy: 0.9759 - val_loss: 1.1269 - val_accuracy: 0.7636 - 445ms/epoch - 5ms/step\n",
      "Epoch 29/50\n",
      "96/96 - 0s - loss: 0.1088 - accuracy: 0.9741 - val_loss: 0.9605 - val_accuracy: 0.7630 - 425ms/epoch - 4ms/step\n",
      "Epoch 30/50\n",
      "96/96 - 0s - loss: 0.0837 - accuracy: 0.9777 - val_loss: 1.0351 - val_accuracy: 0.7708 - 424ms/epoch - 4ms/step\n",
      "Epoch 31/50\n",
      "96/96 - 0s - loss: 0.0825 - accuracy: 0.9785 - val_loss: 0.9347 - val_accuracy: 0.7577 - 454ms/epoch - 5ms/step\n",
      "Epoch 32/50\n",
      "96/96 - 0s - loss: 0.0825 - accuracy: 0.9775 - val_loss: 1.1584 - val_accuracy: 0.7669 - 423ms/epoch - 4ms/step\n",
      "Epoch 33/50\n",
      "96/96 - 0s - loss: 0.0888 - accuracy: 0.9782 - val_loss: 0.9865 - val_accuracy: 0.7656 - 417ms/epoch - 4ms/step\n",
      "Epoch 34/50\n",
      "96/96 - 0s - loss: 0.0832 - accuracy: 0.9767 - val_loss: 1.0596 - val_accuracy: 0.7538 - 439ms/epoch - 5ms/step\n",
      "Epoch 35/50\n",
      "96/96 - 0s - loss: 0.0857 - accuracy: 0.9768 - val_loss: 1.1311 - val_accuracy: 0.7623 - 406ms/epoch - 4ms/step\n",
      "Epoch 36/50\n",
      "96/96 - 0s - loss: 0.0876 - accuracy: 0.9777 - val_loss: 0.9428 - val_accuracy: 0.7603 - 444ms/epoch - 5ms/step\n",
      "Epoch 37/50\n",
      "96/96 - 0s - loss: 0.0781 - accuracy: 0.9768 - val_loss: 0.9801 - val_accuracy: 0.7649 - 442ms/epoch - 5ms/step\n",
      "Epoch 38/50\n",
      "96/96 - 0s - loss: 0.0806 - accuracy: 0.9778 - val_loss: 1.1126 - val_accuracy: 0.7708 - 398ms/epoch - 4ms/step\n",
      "Epoch 39/50\n",
      "96/96 - 0s - loss: 0.0762 - accuracy: 0.9773 - val_loss: 1.0388 - val_accuracy: 0.7617 - 412ms/epoch - 4ms/step\n",
      "Epoch 40/50\n",
      "96/96 - 0s - loss: 0.0764 - accuracy: 0.9790 - val_loss: 1.0425 - val_accuracy: 0.7617 - 422ms/epoch - 4ms/step\n",
      "Epoch 41/50\n",
      "96/96 - 0s - loss: 0.0751 - accuracy: 0.9790 - val_loss: 1.0640 - val_accuracy: 0.7571 - 406ms/epoch - 4ms/step\n",
      "Epoch 42/50\n",
      "96/96 - 0s - loss: 0.0808 - accuracy: 0.9782 - val_loss: 1.0154 - val_accuracy: 0.7669 - 446ms/epoch - 5ms/step\n",
      "Epoch 43/50\n",
      "96/96 - 0s - loss: 0.0777 - accuracy: 0.9793 - val_loss: 1.0104 - val_accuracy: 0.7603 - 426ms/epoch - 4ms/step\n",
      "Epoch 44/50\n",
      "96/96 - 0s - loss: 0.0764 - accuracy: 0.9778 - val_loss: 1.0009 - val_accuracy: 0.7630 - 435ms/epoch - 5ms/step\n",
      "Epoch 45/50\n",
      "96/96 - 0s - loss: 0.0752 - accuracy: 0.9783 - val_loss: 1.0997 - val_accuracy: 0.7636 - 422ms/epoch - 4ms/step\n",
      "Epoch 46/50\n",
      "96/96 - 0s - loss: 0.0763 - accuracy: 0.9800 - val_loss: 1.1030 - val_accuracy: 0.7590 - 425ms/epoch - 4ms/step\n",
      "Epoch 47/50\n",
      "96/96 - 0s - loss: 0.0731 - accuracy: 0.9805 - val_loss: 1.0540 - val_accuracy: 0.7682 - 432ms/epoch - 4ms/step\n",
      "Epoch 48/50\n",
      "96/96 - 0s - loss: 0.0730 - accuracy: 0.9782 - val_loss: 1.0464 - val_accuracy: 0.7669 - 433ms/epoch - 5ms/step\n",
      "Epoch 49/50\n",
      "96/96 - 0s - loss: 0.0731 - accuracy: 0.9785 - val_loss: 1.0254 - val_accuracy: 0.7571 - 462ms/epoch - 5ms/step\n",
      "Epoch 50/50\n",
      "96/96 - 0s - loss: 0.0692 - accuracy: 0.9800 - val_loss: 1.1216 - val_accuracy: 0.7649 - 410ms/epoch - 4ms/step\n"
     ]
    }
   ],
   "source": [
    "history = model.fit(x_train, y_train, batch_size=64, epochs=50, validation_data=(\n",
    "    x_test, y_test), verbose=2)"
   ]
  },
  {
   "cell_type": "code",
   "execution_count": 117,
   "metadata": {},
   "outputs": [
    {
     "data": {
      "text/plain": [
       "<matplotlib.legend.Legend at 0x227e01cffa0>"
      ]
     },
     "execution_count": 117,
     "metadata": {},
     "output_type": "execute_result"
    },
    {
     "data": {
      "image/png": "[encoded data removed]",
      "text/plain": [
       "<Figure size 640x480 with 1 Axes>"
      ]
     },
     "metadata": {},
     "output_type": "display_data"
    }
   ],
   "source": [
    "plt.plot(history.history['loss'], label='training_loss')\n",
    "plt.plot(history.history['val_loss'], label='validation_loss')\n",
    "plt.legend()\n"
   ]
  },
  {
   "cell_type": "code",
   "execution_count": 113,
   "metadata": {},
   "outputs": [
    {
     "data": {
      "text/plain": [
       "<matplotlib.legend.Legend at 0x227e0f7c550>"
      ]
     },
     "execution_count": 113,
     "metadata": {},
     "output_type": "execute_result"
    },
    {
     "data": {
      "image/png": "[encoded data removed]",
      "text/plain": [
       "<Figure size 640x480 with 1 Axes>"
      ]
     },
     "metadata": {},
     "output_type": "display_data"
    }
   ],
   "source": [
    "plt.plot(history.history['accuracy'], label='training_acc')\n",
    "plt.plot(history.history['val_accuracy'], label='validation_acc')\n",
    "plt.legend()\n"
   ]
  },
  {
   "cell_type": "markdown",
   "metadata": {},
   "source": [
    "Predict on test set"
   ]
  },
  {
   "cell_type": "code",
   "execution_count": 66,
   "metadata": {},
   "outputs": [],
   "source": [
    "def create_submission(model, data):\n",
    "    submission = pd.DataFrame()\n",
    "    submission['id'] = data[0]\n",
    "    predictions = model.predict(data[1])\n",
    "    submission['target'] = [i.argmax() for i in predictions]\n",
    "    print(submission.head())\n",
    "    return submission.to_csv('NN_submission.csv', index=False)\n",
    "    "
   ]
  },
  {
   "cell_type": "code",
   "execution_count": 54,
   "metadata": {},
   "outputs": [
    {
     "name": "stdout",
     "output_type": "stream",
     "text": [
      "Total Errors: 116\n",
      "Accuracy: 80.95238095238095%\n"
     ]
    }
   ],
   "source": [
    "preds = model.predict(x_test)\n",
    "errors = 0\n",
    "for i in range(len(preds)):\n",
    "    pred_ind = np.argmax(preds[i])\n",
    "    target = np.argmax(y_test[i])\n",
    "    if pred_ind != target:\n",
    "        errors +=1\n",
    "print(f'Total Errors: {errors}')\n",
    "print(f'Accuracy: {(1 - (errors / len(preds)))*100}%')"
   ]
  },
  {
   "cell_type": "markdown",
   "metadata": {},
   "source": [
    "## Creating Submission "
   ]
  },
  {
   "cell_type": "code",
   "execution_count": 58,
   "metadata": {},
   "outputs": [
    {
     "data": {
      "text/plain": [
       "(3263, 2000)"
      ]
     },
     "execution_count": 58,
     "metadata": {},
     "output_type": "execute_result"
    }
   ],
   "source": [
    "# test_data = pd.read_csv('test.csv')\n",
    "# test_x = test_data['text'].to_numpy()\n",
    "# test_x = remove_punctuation(test_x)\n",
    "# test_x = lower_case(test_x)\n",
    "# test_x = tfidf.transform(test_x).toarray()\n",
    "# test_x.shape"
   ]
  },
  {
   "cell_type": "code",
   "execution_count": 67,
   "metadata": {},
   "outputs": [
    {
     "name": "stdout",
     "output_type": "stream",
     "text": [
      "   id  target\n",
      "0   0       1\n",
      "1   2       1\n",
      "2   3       1\n",
      "3   9       0\n",
      "4  11       1\n"
     ]
    }
   ],
   "source": [
    "# create_submission(model, (test_data['id'], test_x))"
   ]
  }
 ],
 "metadata": {
  "kernelspec": {
   "display_name": "Python 3.10.7 ('env': venv)",
   "language": "python",
   "name": "python3"
  },
  "language_info": {
   "codemirror_mode": {
    "name": "ipython",
    "version": 3
   },
   "file_extension": ".py",
   "mimetype": "text/x-python",
   "name": "python",
   "nbconvert_exporter": "python",
   "pygments_lexer": "ipython3",
   "version": "3.10.7"
  },
  "orig_nbformat": 4,
  "vscode": {
   "interpreter": {
    "hash": "67dbe7e671ef99f95e6279ec40f8fdb93083a5cf91f3001091e64e8b3dc63c18"
   }
  }
 },
 "nbformat": 4,
 "nbformat_minor": 2
}
