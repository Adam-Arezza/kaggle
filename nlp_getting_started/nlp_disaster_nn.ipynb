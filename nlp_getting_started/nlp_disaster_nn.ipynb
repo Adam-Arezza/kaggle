{
 "cells": [
  {
   "cell_type": "code",
   "execution_count": 155,
   "metadata": {},
   "outputs": [],
   "source": [
    "import pandas as pd\n",
    "import numpy as np\n",
    "import matplotlib.pyplot as plt\n",
    "from sklearn.feature_extraction.text import TfidfVectorizer\n",
    "from sklearn.model_selection import train_test_split\n",
    "import tensorflow as tf\n",
    "from tensorflow.keras.callbacks import EarlyStopping\n",
    "import string\n",
    "import re\n",
    "tf.random.set_seed(11)\n",
    "from nltk.corpus import stopwords\n"
   ]
  },
  {
   "cell_type": "code",
   "execution_count": 156,
   "metadata": {},
   "outputs": [],
   "source": [
    "stop_words = set(stopwords.words('english'))"
   ]
  },
  {
   "cell_type": "code",
   "execution_count": 157,
   "metadata": {},
   "outputs": [
    {
     "name": "stdout",
     "output_type": "stream",
     "text": [
      "Num GPUs Available:  1\n"
     ]
    }
   ],
   "source": [
    "physical_devices = tf.config.experimental.list_physical_devices(\"GPU\")\n",
    "print(\"Num GPUs Available: \", len(tf.config.list_physical_devices(\"GPU\")))\n",
    "tf.config.experimental.set_memory_growth(physical_devices[0], enable=True)\n"
   ]
  },
  {
   "cell_type": "code",
   "execution_count": 158,
   "metadata": {},
   "outputs": [],
   "source": [
    "pd_data_train = pd.read_csv('train.csv')\n",
    "pd_data_train = pd_data_train.fillna(0)\n",
    "pd_data_train.drop(columns=['location','keyword'], inplace=True)\n",
    "pd_data_train['text'] = pd_data_train['text'].apply(lambda text: re.sub('[^\\w]', ' ',text) )"
   ]
  },
  {
   "cell_type": "code",
   "execution_count": 159,
   "metadata": {},
   "outputs": [],
   "source": [
    "X = pd_data_train.drop(columns=['target','id']).to_numpy()\n",
    "Y = pd_data_train['target'].to_numpy()\n",
    "Y = tf.keras.utils.to_categorical(Y, 2)"
   ]
  },
  {
   "cell_type": "code",
   "execution_count": 1,
   "metadata": {},
   "outputs": [],
   "source": [
    "def clean_text(text_array):\n",
    "    x_preprocessed = []\n",
    "    for i in range(len(text_array)):\n",
    "        tokens = text_array[i:i+1][0][0].split()\n",
    "        tokens = [i.lower() for i in tokens]\n",
    "        # tokens = [i for i in tokens if i not in stop_words]\n",
    "        tokens = [i.translate(str.maketrans('', '', string.punctuation)) for i in tokens]\n",
    "        tokens = [re.sub(\"\\s+\", \" \", i) for i in tokens]\n",
    "        x_preprocessed.append(\" \".join(tokens))\n",
    "\n",
    "    x = np.array(x_preprocessed)\n",
    "    return x\n"
   ]
  },
  {
   "cell_type": "code",
   "execution_count": 161,
   "metadata": {},
   "outputs": [],
   "source": [
    "x = clean_text(X)"
   ]
  },
  {
   "cell_type": "markdown",
   "metadata": {},
   "source": [
    "Word Embeddings\n"
   ]
  },
  {
   "cell_type": "code",
   "execution_count": 162,
   "metadata": {},
   "outputs": [],
   "source": [
    "tokenizer = tf.keras.preprocessing.text.Tokenizer(num_words=2000)\n",
    "tokenizer.fit_on_texts(x)\n",
    "word_index = tokenizer.word_index\n",
    "\n",
    "sequences = tokenizer.texts_to_sequences(x)\n",
    "padder = tf.keras.preprocessing.sequence.pad_sequences\n",
    "padded = padder(sequences, padding='post', maxlen=20)\n",
    "\n",
    "vocab_size = len(word_index) + 1\n",
    "\n",
    "padded.shape\n",
    "embedding_dim = 75\n",
    "max_length = 20"
   ]
  },
  {
   "cell_type": "code",
   "execution_count": 163,
   "metadata": {},
   "outputs": [],
   "source": [
    "x_train, x_val, y_train, y_val = train_test_split(padded,Y,test_size=0.2, random_state=23)"
   ]
  },
  {
   "cell_type": "markdown",
   "metadata": {},
   "source": [
    "NN with lstm layers\n"
   ]
  },
  {
   "cell_type": "code",
   "execution_count": 164,
   "metadata": {},
   "outputs": [
    {
     "name": "stdout",
     "output_type": "stream",
     "text": [
      "Model: \"sequential_8\"\n",
      "_________________________________________________________________\n",
      " Layer (type)                Output Shape              Param #   \n",
      "=================================================================\n",
      " embedding_8 (Embedding)     (None, 20, 75)            1624950   \n",
      "                                                                 \n",
      " bidirectional_11 (Bidirecti  (None, 128)              71680     \n",
      " onal)                                                           \n",
      "                                                                 \n",
      " dropout_8 (Dropout)         (None, 128)               0         \n",
      "                                                                 \n",
      " dense_16 (Dense)            (None, 16)                2064      \n",
      "                                                                 \n",
      " dense_17 (Dense)            (None, 2)                 34        \n",
      "                                                                 \n",
      "=================================================================\n",
      "Total params: 1,698,728\n",
      "Trainable params: 1,698,728\n",
      "Non-trainable params: 0\n",
      "_________________________________________________________________\n"
     ]
    }
   ],
   "source": [
    "model = tf.keras.Sequential()\n",
    "model.add(tf.keras.layers.Embedding(vocab_size, embedding_dim, input_length=max_length))\n",
    "model.add(tf.keras.layers.Bidirectional(tf.keras.layers.LSTM(64)))\n",
    "model.add(tf.keras.layers.Dropout(0.5))\n",
    "model.add(tf.keras.layers.Dense(16, activation='relu'))\n",
    "model.add(tf.keras.layers.Dense(2, activation='sigmoid'))\n",
    "model.summary()\n"
   ]
  },
  {
   "cell_type": "code",
   "execution_count": 165,
   "metadata": {},
   "outputs": [],
   "source": [
    "model.compile(optimizer=tf.keras.optimizers.Adam(\n",
    "    learning_rate=0.001), loss=\"binary_crossentropy\", metrics=['accuracy'])"
   ]
  },
  {
   "cell_type": "code",
   "execution_count": 166,
   "metadata": {},
   "outputs": [
    {
     "name": "stdout",
     "output_type": "stream",
     "text": [
      "Epoch 1/10\n",
      "96/96 - 4s - loss: 0.5826 - accuracy: 0.6984 - val_loss: 0.4664 - val_accuracy: 0.7833 - 4s/epoch - 41ms/step\n",
      "Epoch 2/10\n",
      "96/96 - 1s - loss: 0.4016 - accuracy: 0.8314 - val_loss: 0.4505 - val_accuracy: 0.7991 - 1s/epoch - 12ms/step\n",
      "Epoch 3/10\n",
      "96/96 - 1s - loss: 0.3467 - accuracy: 0.8606 - val_loss: 0.4586 - val_accuracy: 0.7965 - 1s/epoch - 12ms/step\n",
      "Epoch 4/10\n",
      "96/96 - 1s - loss: 0.3084 - accuracy: 0.8782 - val_loss: 0.4797 - val_accuracy: 0.7892 - 1s/epoch - 12ms/step\n"
     ]
    }
   ],
   "source": [
    "tf.debugging.disable_traceback_filtering()\n",
    "history = model.fit(x_train, y_train, batch_size=64, epochs=10, validation_data=(x_val, y_val), callbacks=EarlyStopping(monitor=\"val_loss\",patience=2), verbose=2,)"
   ]
  },
  {
   "cell_type": "code",
   "execution_count": 167,
   "metadata": {},
   "outputs": [
    {
     "data": {
      "text/plain": [
       "<matplotlib.legend.Legend at 0x1fd46f4bec8>"
      ]
     },
     "execution_count": 167,
     "metadata": {},
     "output_type": "execute_result"
    },
    {
     "data": {
      "image/png": "[encoded data removed]",
      "text/plain": [
       "<Figure size 640x480 with 1 Axes>"
      ]
     },
     "metadata": {},
     "output_type": "display_data"
    }
   ],
   "source": [
    "plt.plot(history.history['loss'], label='training_loss')\n",
    "plt.plot(history.history['val_loss'], label='validation_loss')\n",
    "plt.legend()\n"
   ]
  },
  {
   "cell_type": "code",
   "execution_count": 168,
   "metadata": {},
   "outputs": [
    {
     "data": {
      "text/plain": [
       "<matplotlib.legend.Legend at 0x1fd3f43ae88>"
      ]
     },
     "execution_count": 168,
     "metadata": {},
     "output_type": "execute_result"
    },
    {
     "data": {
      "image/png": "[encoded data removed]",
      "text/plain": [
       "<Figure size 640x480 with 1 Axes>"
      ]
     },
     "metadata": {},
     "output_type": "display_data"
    }
   ],
   "source": [
    "plt.plot(history.history['accuracy'], label='training_acc')\n",
    "plt.plot(history.history['val_accuracy'], label='validation_acc')\n",
    "plt.legend()\n"
   ]
  },
  {
   "cell_type": "markdown",
   "metadata": {},
   "source": [
    "Predict on test set"
   ]
  },
  {
   "cell_type": "code",
   "execution_count": 169,
   "metadata": {},
   "outputs": [],
   "source": [
    "def create_submission(model, data):\n",
    "    submission = pd.DataFrame()\n",
    "    submission['id'] = data[0]\n",
    "    predictions = model.predict(data[1])\n",
    "    submission['target'] = [i.argmax() for i in predictions]\n",
    "    print(submission.head())\n",
    "    return submission.to_csv('NN_submission.csv', index=False)\n",
    "    "
   ]
  },
  {
   "cell_type": "code",
   "execution_count": 170,
   "metadata": {},
   "outputs": [
    {
     "name": "stdout",
     "output_type": "stream",
     "text": [
      "48/48 [==============================] - 1s 4ms/step\n",
      "Total Errors: 321\n",
      "Accuracy: 78.92317793827971%\n"
     ]
    }
   ],
   "source": [
    "preds = model.predict(x_val)\n",
    "errors = 0\n",
    "for i in range(len(preds)):\n",
    "    pred_ind = np.argmax(preds[i])\n",
    "    target = np.argmax(y_val[i])\n",
    "    if pred_ind != target:\n",
    "        errors +=1\n",
    "print(f'Total Errors: {errors}')\n",
    "print(f'Accuracy: {(1 - (errors / len(preds)))*100}%')"
   ]
  },
  {
   "cell_type": "markdown",
   "metadata": {},
   "source": [
    "## Creating Submission "
   ]
  },
  {
   "cell_type": "code",
   "execution_count": 171,
   "metadata": {},
   "outputs": [],
   "source": [
    "pd_data_test = pd.read_csv('test.csv')\n",
    "pd_data_test = pd_data_test.fillna(0)\n",
    "pd_data_test.drop(columns=['location','keyword'], inplace=True)\n",
    "pd_data_test['text'] = pd_data_test['text'].apply(lambda text: re.sub('[^\\w]', ' ',text) )"
   ]
  },
  {
   "cell_type": "code",
   "execution_count": 172,
   "metadata": {},
   "outputs": [],
   "source": [
    "X_test = pd_data_test.drop(columns=['id']).to_numpy()"
   ]
  },
  {
   "cell_type": "code",
   "execution_count": 173,
   "metadata": {},
   "outputs": [],
   "source": [
    "test_x = clean_text(X_test)"
   ]
  },
  {
   "cell_type": "code",
   "execution_count": 174,
   "metadata": {},
   "outputs": [],
   "source": [
    "tokenizer.fit_on_texts(test_x)\n",
    "sequences_test = tokenizer.texts_to_sequences(test_x)\n",
    "padded_test = padder(sequences_test, padding='post', maxlen=20)"
   ]
  },
  {
   "cell_type": "code",
   "execution_count": 175,
   "metadata": {},
   "outputs": [
    {
     "name": "stdout",
     "output_type": "stream",
     "text": [
      "102/102 [==============================] - 1s 5ms/step\n",
      "   id  target\n",
      "0   0       0\n",
      "1   2       1\n",
      "2   3       1\n",
      "3   9       0\n",
      "4  11       0\n"
     ]
    }
   ],
   "source": [
    "create_submission(model, (pd_data_test['id'], padded_test))"
   ]
  }
 ],
 "metadata": {
  "kernelspec": {
   "display_name": "env",
   "language": "python",
   "name": "python3"
  },
  "language_info": {
   "codemirror_mode": {
    "name": "ipython",
    "version": 3
   },
   "file_extension": ".py",
   "mimetype": "text/x-python",
   "name": "python",
   "nbconvert_exporter": "python",
   "pygments_lexer": "ipython3",
   "version": "3.7.9"
  },
  "orig_nbformat": 4
 },
 "nbformat": 4,
 "nbformat_minor": 2
}
