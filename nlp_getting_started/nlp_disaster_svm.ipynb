{
 "cells": [
  {
   "cell_type": "code",
   "execution_count": 13,
   "metadata": {},
   "outputs": [],
   "source": [
    "import pandas as pd\n",
    "import numpy as np\n",
    "from sklearn.feature_extraction.text import TfidfVectorizer\n",
    "from sklearn.model_selection import train_test_split\n",
    "from sklearn.metrics import confusion_matrix, plot_confusion_matrix\n",
    "from sklearn.svm import LinearSVC\n",
    "import re\n",
    "import string\n",
    "from sklearn.decomposition import TruncatedSVD"
   ]
  },
  {
   "cell_type": "code",
   "execution_count": 14,
   "metadata": {},
   "outputs": [],
   "source": [
    "from nltk.corpus import stopwords\n",
    "stop_words = set(stopwords.words('english'))"
   ]
  },
  {
   "cell_type": "markdown",
   "metadata": {},
   "source": [
    "### Data Import and PreProcessing"
   ]
  },
  {
   "cell_type": "code",
   "execution_count": 15,
   "metadata": {},
   "outputs": [],
   "source": [
    "pd_data_train = pd.read_csv('train.csv')"
   ]
  },
  {
   "cell_type": "code",
   "execution_count": 16,
   "metadata": {},
   "outputs": [
    {
     "data": {
      "text/plain": [
       "Index(['id', 'keyword', 'location', 'text', 'target'], dtype='object')"
      ]
     },
     "execution_count": 16,
     "metadata": {},
     "output_type": "execute_result"
    }
   ],
   "source": [
    "pd_data_train.columns"
   ]
  },
  {
   "cell_type": "code",
   "execution_count": 17,
   "metadata": {},
   "outputs": [
    {
     "data": {
      "text/plain": [
       "0    4342\n",
       "1    3271\n",
       "Name: target, dtype: int64"
      ]
     },
     "execution_count": 17,
     "metadata": {},
     "output_type": "execute_result"
    }
   ],
   "source": [
    "pd_data_train[\"target\"].value_counts()"
   ]
  },
  {
   "cell_type": "code",
   "execution_count": 18,
   "metadata": {},
   "outputs": [],
   "source": [
    "location_values = pd_data_train['location'].value_counts()"
   ]
  },
  {
   "cell_type": "code",
   "execution_count": 19,
   "metadata": {},
   "outputs": [],
   "source": [
    "keywords_values = pd_data_train['keyword'].value_counts()"
   ]
  },
  {
   "cell_type": "code",
   "execution_count": 20,
   "metadata": {},
   "outputs": [],
   "source": [
    "# train_data = pd.get_dummies(pd_data_train, columns=['keyword'])\n",
    "train_data = pd_data_train.drop(columns=['location','id', 'keyword'])\n",
    "train_data = train_data.fillna(0)"
   ]
  },
  {
   "cell_type": "code",
   "execution_count": 21,
   "metadata": {},
   "outputs": [],
   "source": [
    "train_data['text'] = train_data['text'].apply(lambda text: re.sub('[^\\w]', ' ',text) )"
   ]
  },
  {
   "cell_type": "code",
   "execution_count": 22,
   "metadata": {},
   "outputs": [],
   "source": [
    "Y = train_data['target'].to_numpy()\n",
    "X = train_data.drop(columns=['target']).to_numpy()\n",
    "x_text = X[:,0:1]"
   ]
  },
  {
   "cell_type": "markdown",
   "metadata": {},
   "source": [
    "### TFIDF"
   ]
  },
  {
   "cell_type": "code",
   "execution_count": 23,
   "metadata": {},
   "outputs": [],
   "source": [
    "tfidf = TfidfVectorizer(ngram_range=(1,4),max_features=15000)\n",
    "x_preprocessed = []\n",
    "for i in range(len(x_text)):\n",
    "    tokens = x_text[i:i+1][0][0].split()\n",
    "    tokens = [i.lower() for i in tokens]\n",
    "    tokens = [i for i in tokens if i not in stop_words]\n",
    "    tokens = [i.translate(str.maketrans('', '', string.punctuation)) for i in tokens]\n",
    "    tokens = [re.sub(\"\\s+\", \" \", i) for i in tokens]\n",
    "    x_preprocessed.append(\" \".join(tokens))\n",
    "x_tf = tfidf.fit_transform(x_preprocessed).toarray()\n",
    "x = np.concatenate((x_tf, X[:,1:]), axis=1)\n"
   ]
  },
  {
   "cell_type": "code",
   "execution_count": 24,
   "metadata": {},
   "outputs": [],
   "source": [
    "tsvd = TruncatedSVD(n_components=2000)\n",
    "tsvd.fit(x)\n",
    "x_reduced = tsvd.transform(x)"
   ]
  },
  {
   "cell_type": "code",
   "execution_count": 25,
   "metadata": {},
   "outputs": [],
   "source": [
    "x_train, x_test, y_train, y_test = train_test_split(x_reduced, Y, test_size=0.25, random_state=21)\n",
    "y_train = y_train.flatten()"
   ]
  },
  {
   "cell_type": "code",
   "execution_count": 26,
   "metadata": {},
   "outputs": [
    {
     "name": "stdout",
     "output_type": "stream",
     "text": [
      "Linear SVM Accuracy: 80.25210084033614 %\n"
     ]
    },
    {
     "name": "stderr",
     "output_type": "stream",
     "text": [
      "d:\\kaggle_competitions\\nlp-getting-started\\env\\lib\\site-packages\\sklearn\\utils\\deprecation.py:87: FutureWarning: Function plot_confusion_matrix is deprecated; Function `plot_confusion_matrix` is deprecated in 1.0 and will be removed in 1.2. Use one of the class methods: ConfusionMatrixDisplay.from_predictions or ConfusionMatrixDisplay.from_estimator.\n",
      "  warnings.warn(msg, category=FutureWarning)\n"
     ]
    },
    {
     "data": {
      "text/plain": [
       "<sklearn.metrics._plot.confusion_matrix.ConfusionMatrixDisplay at 0x16929575888>"
      ]
     },
     "execution_count": 26,
     "metadata": {},
     "output_type": "execute_result"
    },
    {
     "data": {
      "image/png": "[encoded data removed]",
      "text/plain": [
       "<Figure size 640x480 with 2 Axes>"
      ]
     },
     "metadata": {},
     "output_type": "display_data"
    }
   ],
   "source": [
    "model = LinearSVC(class_weight='balanced', C=0.1)\n",
    "model.fit(x_train, y_train)\n",
    "predictions = model.predict(x_test)\n",
    "errors = np.sum(predictions != y_test.flatten())\n",
    "print(f'Linear SVM Accuracy: {(1 - errors / len(x_test)) * 100} %')\n",
    "lsvm_cm = confusion_matrix(y_test, predictions)\n",
    "plot_confusion_matrix(model, x_test, y_test)"
   ]
  },
  {
   "cell_type": "code",
   "execution_count": null,
   "metadata": {},
   "outputs": [],
   "source": [
    "test_data = pd.read_csv('test.csv')\n",
    "# test_data = pd.get_dummies(test_data, columns=['keyword'])\n",
    "test_data.drop(columns=['location','keyword'], inplace=True)\n",
    "test_data['text'].apply(lambda text: re.sub('[^\\w]', ' ',text))\n",
    "\n",
    "x_sub = test_data['text'].to_numpy()\n",
    "x_sub_processed = []\n",
    "for i in range(len(x_sub)):\n",
    "    toks = x_sub[i:i+1][0].split()\n",
    "    toks = [i.lower() for i in toks]\n",
    "    toks = [ i for i in toks if i not in stop_words]\n",
    "    toks = [i.translate(str.maketrans('', '', string.punctuation)) for i in toks]\n",
    "    toks = [re.sub(\"\\s+\", \" \", i) for i in toks]\n",
    "    x_sub_processed.append(\" \".join(toks))\n",
    "\n",
    "x_sub_tf = tfidf.transform(x_sub_processed).toarray()\n",
    "x_sub_tf = np.concatenate((x_sub_tf, test_data.drop(columns=['text', 'id']).to_numpy()), axis=1)\n",
    "x_sub_final = tsvd.fit_transform(x_sub_tf)\n",
    "sub_preds = model.predict(x_sub_final)\n",
    "submission = pd.DataFrame()\n",
    "submission['id'] = test_data['id']\n",
    "submission['target'] = sub_preds"
   ]
  },
  {
   "cell_type": "code",
   "execution_count": null,
   "metadata": {},
   "outputs": [],
   "source": [
    "submission.to_csv('svm_1.csv', index=False)"
   ]
  }
 ],
 "metadata": {
  "kernelspec": {
   "display_name": "Python 3.10.7 ('env': venv)",
   "language": "python",
   "name": "python3"
  },
  "language_info": {
   "codemirror_mode": {
    "name": "ipython",
    "version": 3
   },
   "file_extension": ".py",
   "mimetype": "text/x-python",
   "name": "python",
   "nbconvert_exporter": "python",
   "pygments_lexer": "ipython3",
   "version": "3.7.9"
  },
  "orig_nbformat": 4,
  "vscode": {
   "interpreter": {
    "hash": "67dbe7e671ef99f95e6279ec40f8fdb93083a5cf91f3001091e64e8b3dc63c18"
   }
  }
 },
 "nbformat": 4,
 "nbformat_minor": 2
}
