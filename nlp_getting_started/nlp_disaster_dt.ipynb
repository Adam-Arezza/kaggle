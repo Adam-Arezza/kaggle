{
 "cells": [
  {
   "cell_type": "code",
   "execution_count": 1,
   "metadata": {},
   "outputs": [],
   "source": [
    "import pandas as pd\n",
    "import numpy as np\n",
    "from sklearn.feature_extraction.text import TfidfVectorizer\n",
    "from sklearn.model_selection import train_test_split\n",
    "from sklearn.metrics import confusion_matrix, plot_confusion_matrix\n",
    "from sklearn.tree import DecisionTreeClassifier\n",
    "import re\n",
    "import string"
   ]
  },
  {
   "cell_type": "code",
   "execution_count": 2,
   "metadata": {},
   "outputs": [],
   "source": [
    "pd_data_train = pd.read_csv('train.csv')"
   ]
  },
  {
   "cell_type": "code",
   "execution_count": 3,
   "metadata": {},
   "outputs": [],
   "source": [
    "train_data = pd_data_train.drop(columns=['location','id', 'keyword'])\n",
    "train_data = train_data.fillna(0)\n",
    "train_data['text'] = train_data['text'].apply(lambda text: re.sub('[^\\w]', ' ',text) )"
   ]
  },
  {
   "cell_type": "code",
   "execution_count": 4,
   "metadata": {},
   "outputs": [],
   "source": [
    "Y = train_data['target'].to_numpy()\n",
    "X = train_data.drop(columns=['target']).to_numpy()\n",
    "x_text = X[:,0:1]"
   ]
  },
  {
   "cell_type": "markdown",
   "metadata": {},
   "source": [
    "re-sample the data to balance the classes"
   ]
  },
  {
   "cell_type": "code",
   "execution_count": 5,
   "metadata": {},
   "outputs": [],
   "source": [
    "tfidf = TfidfVectorizer(ngram_range=(1,1))\n",
    "x_preprocessed = []\n",
    "for i in range(len(x_text)):\n",
    "    # print(x_text[i:i+1][0][0])\n",
    "    tokens = x_text[i:i+1][0][0].split()\n",
    "    tokens = [i.lower() for i in tokens]\n",
    "    tokens = [i.translate(str.maketrans('', '', string.punctuation)) for i in tokens]\n",
    "    tokens = [re.sub(\"\\s+\", \" \", i) for i in tokens]\n",
    "    x_preprocessed.append(\" \".join(tokens))\n",
    "x_tf = tfidf.fit_transform(x_preprocessed).toarray()\n",
    "x = np.concatenate((x_tf, X[:,1:]), axis=1)"
   ]
  },
  {
   "cell_type": "code",
   "execution_count": 6,
   "metadata": {},
   "outputs": [],
   "source": [
    "x_train, x_test, y_train, y_test = train_test_split(x, Y, test_size=0.25, random_state=21)\n",
    "y_train = y_train.flatten()"
   ]
  },
  {
   "cell_type": "code",
   "execution_count": 7,
   "metadata": {},
   "outputs": [
    {
     "name": "stdout",
     "output_type": "stream",
     "text": [
      "Stacking classifier Accuracy: 72.00630252100841\n"
     ]
    },
    {
     "name": "stderr",
     "output_type": "stream",
     "text": [
      "d:\\kaggle_competitions\\nlp-getting-started\\env\\lib\\site-packages\\sklearn\\utils\\deprecation.py:87: FutureWarning: Function plot_confusion_matrix is deprecated; Function `plot_confusion_matrix` is deprecated in 1.0 and will be removed in 1.2. Use one of the class methods: ConfusionMatrixDisplay.from_predictions or ConfusionMatrixDisplay.from_estimator.\n",
      "  warnings.warn(msg, category=FutureWarning)\n"
     ]
    },
    {
     "data": {
      "text/plain": [
       "<sklearn.metrics._plot.confusion_matrix.ConfusionMatrixDisplay at 0x1144ea824c8>"
      ]
     },
     "execution_count": 7,
     "metadata": {},
     "output_type": "execute_result"
    },
    {
     "data": {
      "image/png": "[encoded data removed]",
      "text/plain": [
       "<Figure size 640x480 with 2 Axes>"
      ]
     },
     "metadata": {},
     "output_type": "display_data"
    }
   ],
   "source": [
    "dt = DecisionTreeClassifier()\n",
    "dt.fit(x_train, y_train)\n",
    "dt_pred = dt.predict(x_test)\n",
    "err = np.sum(dt_pred != y_test.flatten())\n",
    "print(f'Stacking classifier Accuracy: {(1 - err / len(x_test)) * 100}')\n",
    "plot_confusion_matrix(dt, x_test, y_test)"
   ]
  },
  {
   "cell_type": "markdown",
   "metadata": {},
   "source": [
    "Preparing submission"
   ]
  },
  {
   "cell_type": "code",
   "execution_count": 11,
   "metadata": {},
   "outputs": [],
   "source": [
    "test_data = pd.read_csv('test.csv')\n",
    "test_data = test_data.drop(columns=['location', 'keyword'])\n",
    "test_data = test_data.fillna(0)\n",
    "test_data['text'] = test_data['text'].apply(lambda text: re.sub('[^\\w]', ' ',text) )\n",
    "x_test_text = test_data['text'].to_numpy()\n",
    "x_sub_processed = []\n",
    "for i in range(len(x_test_text)):\n",
    "    toks = x_test_text[i:i+1][0].split()\n",
    "    toks = [i.lower() for i in toks]\n",
    "    toks = [i.translate(str.maketrans('', '', string.punctuation)) for i in toks]\n",
    "    toks = [re.sub(\"\\s+\", \" \", i) for i in toks]\n",
    "    x_sub_processed.append(\" \".join(toks))\n",
    "\n",
    "x_sub_tf = tfidf.transform(x_sub_processed).toarray()\n",
    "test_x = test_data.to_numpy()\n",
    "sub_preds = stack_model.predict(x_sub_tf)\n",
    "submission = pd.DataFrame()\n",
    "submission['id'] = test_data['id']\n",
    "submission['target'] = sub_preds\n"
   ]
  },
  {
   "cell_type": "code",
   "execution_count": 12,
   "metadata": {},
   "outputs": [],
   "source": [
    "submission.to_csv('stacking_2.csv', index=False)"
   ]
  }
 ],
 "metadata": {
  "kernelspec": {
   "display_name": "env",
   "language": "python",
   "name": "python3"
  },
  "language_info": {
   "codemirror_mode": {
    "name": "ipython",
    "version": 3
   },
   "file_extension": ".py",
   "mimetype": "text/x-python",
   "name": "python",
   "nbconvert_exporter": "python",
   "pygments_lexer": "ipython3",
   "version": "3.7.9"
  },
  "orig_nbformat": 4
 },
 "nbformat": 4,
 "nbformat_minor": 2
}
