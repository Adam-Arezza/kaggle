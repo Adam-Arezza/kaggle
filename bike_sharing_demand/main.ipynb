{
 "cells": [
  {
   "cell_type": "code",
   "execution_count": 8,
   "metadata": {},
   "outputs": [],
   "source": [
    "import pandas as pd\n",
    "import numpy as np\n",
    "from sklearn.model_selection import train_test_split"
   ]
  },
  {
   "cell_type": "code",
   "execution_count": 14,
   "metadata": {},
   "outputs": [
    {
     "name": "stdout",
     "output_type": "stream",
     "text": [
      "12\n"
     ]
    }
   ],
   "source": [
    "data = pd.read_csv(\"train.csv\")\n",
    "columns = data.columns.tolist()\n",
    "total_rows = data.shape[0]\n",
    "print(len(columns))\n",
    "#convert datetime to another datatype?\n",
    "#year | month | day | hour | minute | seconds\n",
    "#get the series\n",
    "datetimes = data['datetime']\n",
    "datetime_df = pd.DataFrame(columns=['year', 'month', 'day', 'hour', 'minute', 'second'])\n",
    "for n,i in enumerate(datetimes):\n",
    "    date,time = i.split()\n",
    "    date = date.split('-')\n",
    "    year = int(date[0])\n",
    "    month = int(date[1])\n",
    "    day = int(date[2])\n",
    "    time = time.split(':')\n",
    "    hour = int(time[0])\n",
    "    minute = int(time[1])\n",
    "    second = int(time[2])\n",
    "    new_row = pd.DataFrame({\"year\":year, \"month\":month, \"day\": day, \"hour\":hour, \"minute\":minute, \"second\":second}, index=[n])\n",
    "    datetime_df = pd.concat([datetime_df, new_row])\n",
    "data.dtypes\n",
    "data = data.drop(columns=['datetime'])\n",
    "data = pd.concat([data, datetime_df], ignore_index=True, axis=0)"
   ]
  },
  {
   "cell_type": "code",
   "execution_count": 3,
   "metadata": {},
   "outputs": [],
   "source": [
    "y = data['count']\n",
    "x = data.drop(columns=['count'])"
   ]
  }
 ],
 "metadata": {
  "kernelspec": {
   "display_name": "venv",
   "language": "python",
   "name": "python3"
  },
  "language_info": {
   "codemirror_mode": {
    "name": "ipython",
    "version": 3
   },
   "file_extension": ".py",
   "mimetype": "text/x-python",
   "name": "python",
   "nbconvert_exporter": "python",
   "pygments_lexer": "ipython3",
   "version": "3.11.5"
  }
 },
 "nbformat": 4,
 "nbformat_minor": 2
}
